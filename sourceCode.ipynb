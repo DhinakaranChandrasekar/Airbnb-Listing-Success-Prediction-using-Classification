{
 "cells": [
  {
   "cell_type": "markdown",
   "id": "89121810-399f-4bc4-b379-d140a6992993",
   "metadata": {},
   "source": [
    "                                                       Airbnb Listing Success Prediction "
   ]
  },
  {
   "cell_type": "code",
   "execution_count": 398,
   "id": "ad845fd3-ec6d-4d20-9d2c-29ae04db3c4a",
   "metadata": {},
   "outputs": [
    {
     "name": "stdout",
     "output_type": "stream",
     "text": [
      "Requirement already satisfied: pandas in c:\\users\\dhinakaran c\\appdata\\local\\programs\\python\\python312\\lib\\site-packages (2.1.4)Note: you may need to restart the kernel to use updated packages.\n",
      "\n",
      "Requirement already satisfied: numpy<2,>=1.26.0 in c:\\users\\dhinakaran c\\appdata\\local\\programs\\python\\python312\\lib\\site-packages (from pandas) (1.26.3)\n",
      "Requirement already satisfied: python-dateutil>=2.8.2 in c:\\users\\dhinakaran c\\appdata\\local\\programs\\python\\python312\\lib\\site-packages (from pandas) (2.8.2)\n",
      "Requirement already satisfied: pytz>=2020.1 in c:\\users\\dhinakaran c\\appdata\\local\\programs\\python\\python312\\lib\\site-packages (from pandas) (2023.3.post1)\n",
      "Requirement already satisfied: tzdata>=2022.1 in c:\\users\\dhinakaran c\\appdata\\local\\programs\\python\\python312\\lib\\site-packages (from pandas) (2023.4)\n",
      "Requirement already satisfied: six>=1.5 in c:\\users\\dhinakaran c\\appdata\\local\\programs\\python\\python312\\lib\\site-packages (from python-dateutil>=2.8.2->pandas) (1.16.0)\n"
     ]
    },
    {
     "name": "stderr",
     "output_type": "stream",
     "text": [
      "\n",
      "[notice] A new release of pip is available: 23.2.1 -> 23.3.2\n",
      "[notice] To update, run: python.exe -m pip install --upgrade pip\n"
     ]
    }
   ],
   "source": [
    "pip install pandas\n"
   ]
  },
  {
   "cell_type": "code",
   "execution_count": 399,
   "id": "119e6d87-6ab3-455d-9f05-e7430c6ee72e",
   "metadata": {},
   "outputs": [
    {
     "name": "stdout",
     "output_type": "stream",
     "text": [
      "Requirement already satisfied: openpyxl in c:\\users\\dhinakaran c\\appdata\\local\\programs\\python\\python312\\lib\\site-packages (3.1.2)\n",
      "Requirement already satisfied: et-xmlfile in c:\\users\\dhinakaran c\\appdata\\local\\programs\\python\\python312\\lib\\site-packages (from openpyxl) (1.1.0)\n",
      "Note: you may need to restart the kernel to use updated packages.\n"
     ]
    },
    {
     "name": "stderr",
     "output_type": "stream",
     "text": [
      "\n",
      "[notice] A new release of pip is available: 23.2.1 -> 23.3.2\n",
      "[notice] To update, run: python.exe -m pip install --upgrade pip\n"
     ]
    }
   ],
   "source": [
    "pip install openpyxl"
   ]
  },
  {
   "cell_type": "code",
   "execution_count": 400,
   "id": "8824d663-5034-48b1-8b82-3950e5fc649b",
   "metadata": {},
   "outputs": [],
   "source": [
    "import pandas as pd"
   ]
  },
  {
   "cell_type": "code",
   "execution_count": 401,
   "id": "6e7cfbfc-ec77-45da-9233-2b4760599fe9",
   "metadata": {},
   "outputs": [
    {
     "name": "stderr",
     "output_type": "stream",
     "text": [
      "C:\\Users\\Dhinakaran C\\AppData\\Local\\Temp\\ipykernel_844\\734672491.py:1: DtypeWarning: Columns (68) have mixed types. Specify dtype option on import or set low_memory=False.\n",
      "  x = pd.read_csv(\"listings.csv\")\n"
     ]
    }
   ],
   "source": [
    "x = pd.read_csv(\"listings.csv\")"
   ]
  },
  {
   "cell_type": "code",
   "execution_count": 402,
   "id": "2855c703-2ae7-47f4-9f04-f40d8e2722e6",
   "metadata": {},
   "outputs": [
    {
     "data": {
      "text/html": [
       "<div>\n",
       "<style scoped>\n",
       "    .dataframe tbody tr th:only-of-type {\n",
       "        vertical-align: middle;\n",
       "    }\n",
       "\n",
       "    .dataframe tbody tr th {\n",
       "        vertical-align: top;\n",
       "    }\n",
       "\n",
       "    .dataframe thead th {\n",
       "        text-align: right;\n",
       "    }\n",
       "</style>\n",
       "<table border=\"1\" class=\"dataframe\">\n",
       "  <thead>\n",
       "    <tr style=\"text-align: right;\">\n",
       "      <th></th>\n",
       "      <th>id</th>\n",
       "      <th>listing_url</th>\n",
       "      <th>scrape_id</th>\n",
       "      <th>last_scraped</th>\n",
       "      <th>source</th>\n",
       "      <th>name</th>\n",
       "      <th>description</th>\n",
       "      <th>neighborhood_overview</th>\n",
       "      <th>picture_url</th>\n",
       "      <th>host_id</th>\n",
       "      <th>...</th>\n",
       "      <th>review_scores_communication</th>\n",
       "      <th>review_scores_location</th>\n",
       "      <th>review_scores_value</th>\n",
       "      <th>license</th>\n",
       "      <th>instant_bookable</th>\n",
       "      <th>calculated_host_listings_count</th>\n",
       "      <th>calculated_host_listings_count_entire_homes</th>\n",
       "      <th>calculated_host_listings_count_private_rooms</th>\n",
       "      <th>calculated_host_listings_count_shared_rooms</th>\n",
       "      <th>reviews_per_month</th>\n",
       "    </tr>\n",
       "  </thead>\n",
       "  <tbody>\n",
       "    <tr>\n",
       "      <th>0</th>\n",
       "      <td>92644</td>\n",
       "      <td>https://www.airbnb.com/rooms/92644</td>\n",
       "      <td>20230906022807</td>\n",
       "      <td>2023-09-06</td>\n",
       "      <td>city scrape</td>\n",
       "      <td>Rental unit in Earlsfield · ★4.57 · 1 bedroom ...</td>\n",
       "      <td>&lt;b&gt;The space&lt;/b&gt;&lt;br /&gt;Hi everyone! I have 2 ro...</td>\n",
       "      <td>NaN</td>\n",
       "      <td>https://a0.muscache.com/pictures/715127/85bdb4...</td>\n",
       "      <td>498201</td>\n",
       "      <td>...</td>\n",
       "      <td>4.67</td>\n",
       "      <td>4.53</td>\n",
       "      <td>4.68</td>\n",
       "      <td>NaN</td>\n",
       "      <td>t</td>\n",
       "      <td>1</td>\n",
       "      <td>0</td>\n",
       "      <td>1</td>\n",
       "      <td>0</td>\n",
       "      <td>1.45</td>\n",
       "    </tr>\n",
       "    <tr>\n",
       "      <th>1</th>\n",
       "      <td>93015</td>\n",
       "      <td>https://www.airbnb.com/rooms/93015</td>\n",
       "      <td>20230906022807</td>\n",
       "      <td>2023-09-06</td>\n",
       "      <td>city scrape</td>\n",
       "      <td>Rental unit in Hammersmith · ★4.82 · 2 bedroom...</td>\n",
       "      <td>Gorgeous 2 bed ground floor apartment with per...</td>\n",
       "      <td>A bit of history about the W14 area: &lt;br /&gt;Com...</td>\n",
       "      <td>https://a0.muscache.com/pictures/865937ec-ee56...</td>\n",
       "      <td>499704</td>\n",
       "      <td>...</td>\n",
       "      <td>4.88</td>\n",
       "      <td>4.85</td>\n",
       "      <td>4.74</td>\n",
       "      <td>NaN</td>\n",
       "      <td>f</td>\n",
       "      <td>1</td>\n",
       "      <td>1</td>\n",
       "      <td>0</td>\n",
       "      <td>0</td>\n",
       "      <td>0.27</td>\n",
       "    </tr>\n",
       "    <tr>\n",
       "      <th>2</th>\n",
       "      <td>13913</td>\n",
       "      <td>https://www.airbnb.com/rooms/13913</td>\n",
       "      <td>20230906022807</td>\n",
       "      <td>2023-09-06</td>\n",
       "      <td>city scrape</td>\n",
       "      <td>Rental unit in Islington · ★4.80 · 1 bedroom ·...</td>\n",
       "      <td>My bright double bedroom with a large window h...</td>\n",
       "      <td>Finsbury Park is a friendly melting pot commun...</td>\n",
       "      <td>https://a0.muscache.com/pictures/miso/Hosting-...</td>\n",
       "      <td>54730</td>\n",
       "      <td>...</td>\n",
       "      <td>4.82</td>\n",
       "      <td>4.69</td>\n",
       "      <td>4.69</td>\n",
       "      <td>NaN</td>\n",
       "      <td>f</td>\n",
       "      <td>2</td>\n",
       "      <td>1</td>\n",
       "      <td>1</td>\n",
       "      <td>0</td>\n",
       "      <td>0.26</td>\n",
       "    </tr>\n",
       "    <tr>\n",
       "      <th>3</th>\n",
       "      <td>15400</td>\n",
       "      <td>https://www.airbnb.com/rooms/15400</td>\n",
       "      <td>20230906022807</td>\n",
       "      <td>2023-09-06</td>\n",
       "      <td>city scrape</td>\n",
       "      <td>Rental unit in London · ★4.80 · 1 bedroom · 1 ...</td>\n",
       "      <td>Lots of windows and light.  St Luke's Gardens ...</td>\n",
       "      <td>It is Chelsea.</td>\n",
       "      <td>https://a0.muscache.com/pictures/428392/462d26...</td>\n",
       "      <td>60302</td>\n",
       "      <td>...</td>\n",
       "      <td>4.83</td>\n",
       "      <td>4.93</td>\n",
       "      <td>4.74</td>\n",
       "      <td>NaN</td>\n",
       "      <td>f</td>\n",
       "      <td>1</td>\n",
       "      <td>1</td>\n",
       "      <td>0</td>\n",
       "      <td>0</td>\n",
       "      <td>0.56</td>\n",
       "    </tr>\n",
       "    <tr>\n",
       "      <th>4</th>\n",
       "      <td>93734</td>\n",
       "      <td>https://www.airbnb.com/rooms/93734</td>\n",
       "      <td>20230906022807</td>\n",
       "      <td>2023-09-07</td>\n",
       "      <td>city scrape</td>\n",
       "      <td>Condo in London · ★4.62 · 1 bedroom · 1 bed · ...</td>\n",
       "      <td>&lt;b&gt;During your stay&lt;/b&gt;&lt;br /&gt;I’m a professiona...</td>\n",
       "      <td>NaN</td>\n",
       "      <td>https://a0.muscache.com/pictures/miso/Hosting-...</td>\n",
       "      <td>497514</td>\n",
       "      <td>...</td>\n",
       "      <td>4.81</td>\n",
       "      <td>4.64</td>\n",
       "      <td>4.67</td>\n",
       "      <td>NaN</td>\n",
       "      <td>f</td>\n",
       "      <td>1</td>\n",
       "      <td>0</td>\n",
       "      <td>1</td>\n",
       "      <td>0</td>\n",
       "      <td>1.21</td>\n",
       "    </tr>\n",
       "  </tbody>\n",
       "</table>\n",
       "<p>5 rows × 75 columns</p>\n",
       "</div>"
      ],
      "text/plain": [
       "      id                         listing_url       scrape_id last_scraped  \\\n",
       "0  92644  https://www.airbnb.com/rooms/92644  20230906022807   2023-09-06   \n",
       "1  93015  https://www.airbnb.com/rooms/93015  20230906022807   2023-09-06   \n",
       "2  13913  https://www.airbnb.com/rooms/13913  20230906022807   2023-09-06   \n",
       "3  15400  https://www.airbnb.com/rooms/15400  20230906022807   2023-09-06   \n",
       "4  93734  https://www.airbnb.com/rooms/93734  20230906022807   2023-09-07   \n",
       "\n",
       "        source                                               name  \\\n",
       "0  city scrape  Rental unit in Earlsfield · ★4.57 · 1 bedroom ...   \n",
       "1  city scrape  Rental unit in Hammersmith · ★4.82 · 2 bedroom...   \n",
       "2  city scrape  Rental unit in Islington · ★4.80 · 1 bedroom ·...   \n",
       "3  city scrape  Rental unit in London · ★4.80 · 1 bedroom · 1 ...   \n",
       "4  city scrape  Condo in London · ★4.62 · 1 bedroom · 1 bed · ...   \n",
       "\n",
       "                                         description  \\\n",
       "0  <b>The space</b><br />Hi everyone! I have 2 ro...   \n",
       "1  Gorgeous 2 bed ground floor apartment with per...   \n",
       "2  My bright double bedroom with a large window h...   \n",
       "3  Lots of windows and light.  St Luke's Gardens ...   \n",
       "4  <b>During your stay</b><br />I’m a professiona...   \n",
       "\n",
       "                               neighborhood_overview  \\\n",
       "0                                                NaN   \n",
       "1  A bit of history about the W14 area: <br />Com...   \n",
       "2  Finsbury Park is a friendly melting pot commun...   \n",
       "3                                     It is Chelsea.   \n",
       "4                                                NaN   \n",
       "\n",
       "                                         picture_url  host_id  ...  \\\n",
       "0  https://a0.muscache.com/pictures/715127/85bdb4...   498201  ...   \n",
       "1  https://a0.muscache.com/pictures/865937ec-ee56...   499704  ...   \n",
       "2  https://a0.muscache.com/pictures/miso/Hosting-...    54730  ...   \n",
       "3  https://a0.muscache.com/pictures/428392/462d26...    60302  ...   \n",
       "4  https://a0.muscache.com/pictures/miso/Hosting-...   497514  ...   \n",
       "\n",
       "  review_scores_communication review_scores_location review_scores_value  \\\n",
       "0                        4.67                   4.53                4.68   \n",
       "1                        4.88                   4.85                4.74   \n",
       "2                        4.82                   4.69                4.69   \n",
       "3                        4.83                   4.93                4.74   \n",
       "4                        4.81                   4.64                4.67   \n",
       "\n",
       "  license instant_bookable calculated_host_listings_count  \\\n",
       "0     NaN                t                              1   \n",
       "1     NaN                f                              1   \n",
       "2     NaN                f                              2   \n",
       "3     NaN                f                              1   \n",
       "4     NaN                f                              1   \n",
       "\n",
       "  calculated_host_listings_count_entire_homes  \\\n",
       "0                                           0   \n",
       "1                                           1   \n",
       "2                                           1   \n",
       "3                                           1   \n",
       "4                                           0   \n",
       "\n",
       "  calculated_host_listings_count_private_rooms  \\\n",
       "0                                            1   \n",
       "1                                            0   \n",
       "2                                            1   \n",
       "3                                            0   \n",
       "4                                            1   \n",
       "\n",
       "  calculated_host_listings_count_shared_rooms reviews_per_month  \n",
       "0                                           0              1.45  \n",
       "1                                           0              0.27  \n",
       "2                                           0              0.26  \n",
       "3                                           0              0.56  \n",
       "4                                           0              1.21  \n",
       "\n",
       "[5 rows x 75 columns]"
      ]
     },
     "execution_count": 402,
     "metadata": {},
     "output_type": "execute_result"
    }
   ],
   "source": [
    "x.head()"
   ]
  },
  {
   "cell_type": "code",
   "execution_count": 403,
   "id": "16e1dfb3-41a1-4a3a-9dcc-86ecf0ac9333",
   "metadata": {},
   "outputs": [
    {
     "data": {
      "text/plain": [
       "(87946, 75)"
      ]
     },
     "execution_count": 403,
     "metadata": {},
     "output_type": "execute_result"
    }
   ],
   "source": [
    "x.shape"
   ]
  },
  {
   "cell_type": "code",
   "execution_count": 404,
   "id": "a4f3c8dd-4356-4f6a-aedc-a5d03af6e1e1",
   "metadata": {},
   "outputs": [
    {
     "name": "stdout",
     "output_type": "stream",
     "text": [
      "<class 'pandas.core.frame.DataFrame'>\n",
      "RangeIndex: 87946 entries, 0 to 87945\n",
      "Data columns (total 75 columns):\n",
      " #   Column                                        Non-Null Count  Dtype  \n",
      "---  ------                                        --------------  -----  \n",
      " 0   id                                            87946 non-null  int64  \n",
      " 1   listing_url                                   87946 non-null  object \n",
      " 2   scrape_id                                     87946 non-null  int64  \n",
      " 3   last_scraped                                  87946 non-null  object \n",
      " 4   source                                        87946 non-null  object \n",
      " 5   name                                          87946 non-null  object \n",
      " 6   description                                   86679 non-null  object \n",
      " 7   neighborhood_overview                         47190 non-null  object \n",
      " 8   picture_url                                   87943 non-null  object \n",
      " 9   host_id                                       87946 non-null  int64  \n",
      " 10  host_url                                      87946 non-null  object \n",
      " 11  host_name                                     87941 non-null  object \n",
      " 12  host_since                                    87941 non-null  object \n",
      " 13  host_location                                 69168 non-null  object \n",
      " 14  host_about                                    45906 non-null  object \n",
      " 15  host_response_time                            59028 non-null  object \n",
      " 16  host_response_rate                            59028 non-null  object \n",
      " 17  host_acceptance_rate                          62758 non-null  object \n",
      " 18  host_is_superhost                             87014 non-null  object \n",
      " 19  host_thumbnail_url                            87941 non-null  object \n",
      " 20  host_picture_url                              87941 non-null  object \n",
      " 21  host_neighbourhood                            48079 non-null  object \n",
      " 22  host_listings_count                           87941 non-null  float64\n",
      " 23  host_total_listings_count                     87941 non-null  float64\n",
      " 24  host_verifications                            87941 non-null  object \n",
      " 25  host_has_profile_pic                          87941 non-null  object \n",
      " 26  host_identity_verified                        87941 non-null  object \n",
      " 27  neighbourhood                                 47191 non-null  object \n",
      " 28  neighbourhood_cleansed                        87946 non-null  object \n",
      " 29  neighbourhood_group_cleansed                  0 non-null      float64\n",
      " 30  latitude                                      87946 non-null  float64\n",
      " 31  longitude                                     87946 non-null  float64\n",
      " 32  property_type                                 87946 non-null  object \n",
      " 33  room_type                                     87946 non-null  object \n",
      " 34  accommodates                                  87946 non-null  int64  \n",
      " 35  bathrooms                                     0 non-null      float64\n",
      " 36  bathrooms_text                                87843 non-null  object \n",
      " 37  bedrooms                                      55172 non-null  float64\n",
      " 38  beds                                          86812 non-null  float64\n",
      " 39  amenities                                     87946 non-null  object \n",
      " 40  price                                         87946 non-null  object \n",
      " 41  minimum_nights                                87946 non-null  int64  \n",
      " 42  maximum_nights                                87946 non-null  int64  \n",
      " 43  minimum_minimum_nights                        87945 non-null  float64\n",
      " 44  maximum_minimum_nights                        87945 non-null  float64\n",
      " 45  minimum_maximum_nights                        87945 non-null  float64\n",
      " 46  maximum_maximum_nights                        87945 non-null  float64\n",
      " 47  minimum_nights_avg_ntm                        87945 non-null  float64\n",
      " 48  maximum_nights_avg_ntm                        87945 non-null  float64\n",
      " 49  calendar_updated                              0 non-null      float64\n",
      " 50  has_availability                              87946 non-null  object \n",
      " 51  availability_30                               87946 non-null  int64  \n",
      " 52  availability_60                               87946 non-null  int64  \n",
      " 53  availability_90                               87946 non-null  int64  \n",
      " 54  availability_365                              87946 non-null  int64  \n",
      " 55  calendar_last_scraped                         87946 non-null  object \n",
      " 56  number_of_reviews                             87946 non-null  int64  \n",
      " 57  number_of_reviews_ltm                         87946 non-null  int64  \n",
      " 58  number_of_reviews_l30d                        87946 non-null  int64  \n",
      " 59  first_review                                  65788 non-null  object \n",
      " 60  last_review                                   65788 non-null  object \n",
      " 61  review_scores_rating                          65788 non-null  float64\n",
      " 62  review_scores_accuracy                        64853 non-null  float64\n",
      " 63  review_scores_cleanliness                     64865 non-null  float64\n",
      " 64  review_scores_checkin                         64821 non-null  float64\n",
      " 65  review_scores_communication                   64851 non-null  float64\n",
      " 66  review_scores_location                        64821 non-null  float64\n",
      " 67  review_scores_value                           64820 non-null  float64\n",
      " 68  license                                       1 non-null      object \n",
      " 69  instant_bookable                              87946 non-null  object \n",
      " 70  calculated_host_listings_count                87946 non-null  int64  \n",
      " 71  calculated_host_listings_count_entire_homes   87946 non-null  int64  \n",
      " 72  calculated_host_listings_count_private_rooms  87946 non-null  int64  \n",
      " 73  calculated_host_listings_count_shared_rooms   87946 non-null  int64  \n",
      " 74  reviews_per_month                             65788 non-null  float64\n",
      "dtypes: float64(23), int64(17), object(35)\n",
      "memory usage: 50.3+ MB\n"
     ]
    }
   ],
   "source": [
    "x.info()"
   ]
  },
  {
   "cell_type": "markdown",
   "id": "74fd8a51-36e3-4169-bc2c-74a6f11ed12d",
   "metadata": {},
   "source": [
    "I have picked out a few columns after some domain understanding and messing with the data. I have filled up all the null values with appropriate techniques and  have converted their data types to their appropriate ones. Also all the boolean variables are converted to 0's and 1's to maintain uniformity"
   ]
  },
  {
   "cell_type": "raw",
   "id": "f9ca841d-7146-4895-8748-981712be394b",
   "metadata": {},
   "source": [
    "A superhost is a top rated and very experienced host in an air bnb."
   ]
  },
  {
   "cell_type": "code",
   "execution_count": 405,
   "id": "5319dbb1-cf16-4991-a8a2-146f2281cfb8",
   "metadata": {},
   "outputs": [
    {
     "data": {
      "text/plain": [
       "932"
      ]
     },
     "execution_count": 405,
     "metadata": {},
     "output_type": "execute_result"
    }
   ],
   "source": [
    "x['host_is_superhost'].isna().sum()"
   ]
  },
  {
   "cell_type": "code",
   "execution_count": 406,
   "id": "d58f6a70-efc5-460b-811f-629d3c68aed4",
   "metadata": {},
   "outputs": [
    {
     "data": {
      "text/plain": [
       "0        f\n",
       "1        f\n",
       "2        f\n",
       "3        f\n",
       "4        t\n",
       "        ..\n",
       "87941    t\n",
       "87942    f\n",
       "87943    f\n",
       "87944    f\n",
       "87945    f\n",
       "Name: host_is_superhost, Length: 87946, dtype: object"
      ]
     },
     "execution_count": 406,
     "metadata": {},
     "output_type": "execute_result"
    }
   ],
   "source": [
    "x['host_is_superhost']"
   ]
  },
  {
   "cell_type": "code",
   "execution_count": 407,
   "id": "5378a9b7-dbe4-429b-a3cb-25eacd0c684c",
   "metadata": {},
   "outputs": [],
   "source": [
    "import matplotlib.pyplot as plt\n",
    "import seaborn as sns"
   ]
  },
  {
   "cell_type": "code",
   "execution_count": 408,
   "id": "ca40a84f-ec88-4ad8-83ea-fe8446a94c70",
   "metadata": {},
   "outputs": [],
   "source": [
    "superhost_counts = x['host_is_superhost'].value_counts()"
   ]
  },
  {
   "cell_type": "code",
   "execution_count": 409,
   "id": "1d08c165-8554-4f1b-9379-0a0498a98b1f",
   "metadata": {},
   "outputs": [
    {
     "name": "stderr",
     "output_type": "stream",
     "text": [
      "C:\\Users\\Dhinakaran C\\AppData\\Local\\Temp\\ipykernel_844\\740862470.py:2: FutureWarning: \n",
      "\n",
      "Passing `palette` without assigning `hue` is deprecated and will be removed in v0.14.0. Assign the `x` variable to `hue` and set `legend=False` for the same effect.\n",
      "\n",
      "  bar_plot = sns.barplot(x=superhost_counts.index, y=superhost_counts.values, palette=\"Set2\")\n",
      "C:\\Users\\Dhinakaran C\\AppData\\Local\\Temp\\ipykernel_844\\740862470.py:3: UserWarning: set_ticklabels() should only be used with a fixed number of ticks, i.e. after set_ticks() or using a FixedLocator.\n",
      "  bar_plot.set_xticklabels(['False', 'True'])\n"
     ]
    },
    {
     "data": {
      "text/plain": [
       "[Text(0, 0, 'False'), Text(1, 0, 'True')]"
      ]
     },
     "execution_count": 409,
     "metadata": {},
     "output_type": "execute_result"
    },
    {
     "data": {
      "image/png": "[encoded data removed]",
      "text/plain": [
       "<Figure size 800x600 with 1 Axes>"
      ]
     },
     "metadata": {},
     "output_type": "display_data"
    }
   ],
   "source": [
    "plt.figure(figsize=(8, 6))\n",
    "bar_plot = sns.barplot(x=superhost_counts.index, y=superhost_counts.values, palette=\"Set2\")\n",
    "bar_plot.set_xticklabels(['False', 'True'])"
   ]
  },
  {
   "cell_type": "markdown",
   "id": "b301359e-b2f9-48f4-af6e-3d38cfadbcb7",
   "metadata": {},
   "source": [
    "A Superhost is a very highly rated host or a very experinced host in AirBnB and the above graph shows us the representation between the number of superhosts and not so super hosts"
   ]
  },
  {
   "cell_type": "code",
   "execution_count": 410,
   "id": "f07e9678-0cd4-446f-a90f-c7bc900ee142",
   "metadata": {},
   "outputs": [],
   "source": [
    "bool_mapping = {'True': 1, 'False': 0, 't': 1, 'f': 0}\n",
    "x['host_is_superhost'] = x['host_is_superhost'].map(bool_mapping)"
   ]
  },
  {
   "cell_type": "code",
   "execution_count": 411,
   "id": "dbfce9ae-5a95-4f42-9964-c98aaee2abf0",
   "metadata": {},
   "outputs": [],
   "source": [
    "x['host_is_superhost'] = x['host_is_superhost'].fillna(0)"
   ]
  },
  {
   "cell_type": "code",
   "execution_count": 412,
   "id": "c05d4ac3-02d7-45b4-9ce6-d191be85813d",
   "metadata": {},
   "outputs": [
    {
     "data": {
      "text/plain": [
       "0        0.0\n",
       "1        0.0\n",
       "2        0.0\n",
       "3        0.0\n",
       "4        1.0\n",
       "        ... \n",
       "87941    1.0\n",
       "87942    0.0\n",
       "87943    0.0\n",
       "87944    0.0\n",
       "87945    0.0\n",
       "Name: host_is_superhost, Length: 87946, dtype: float64"
      ]
     },
     "execution_count": 412,
     "metadata": {},
     "output_type": "execute_result"
    }
   ],
   "source": [
    "x['host_is_superhost']"
   ]
  },
  {
   "cell_type": "code",
   "execution_count": 413,
   "id": "7653a13b-21a0-40de-8e6c-1bc51297d983",
   "metadata": {},
   "outputs": [
    {
     "data": {
      "text/plain": [
       "0"
      ]
     },
     "execution_count": 413,
     "metadata": {},
     "output_type": "execute_result"
    }
   ],
   "source": [
    "x['host_is_superhost'].isna().sum()"
   ]
  },
  {
   "cell_type": "code",
   "execution_count": 414,
   "id": "5104aeac-e44e-4f44-afb0-7a042518e574",
   "metadata": {},
   "outputs": [
    {
     "data": {
      "text/plain": [
       "0        t\n",
       "1        t\n",
       "2        t\n",
       "3        t\n",
       "4        t\n",
       "        ..\n",
       "87941    t\n",
       "87942    t\n",
       "87943    t\n",
       "87944    t\n",
       "87945    t\n",
       "Name: host_identity_verified, Length: 87946, dtype: object"
      ]
     },
     "execution_count": 414,
     "metadata": {},
     "output_type": "execute_result"
    }
   ],
   "source": [
    "x['host_identity_verified']"
   ]
  },
  {
   "cell_type": "code",
   "execution_count": 415,
   "id": "a9cae9b3-8c9c-47c4-b984-e176a7e3f98b",
   "metadata": {},
   "outputs": [
    {
     "data": {
      "text/plain": [
       "5"
      ]
     },
     "execution_count": 415,
     "metadata": {},
     "output_type": "execute_result"
    }
   ],
   "source": [
    "x['host_identity_verified'].isna().sum()"
   ]
  },
  {
   "cell_type": "code",
   "execution_count": 416,
   "id": "6cb1c0df-0793-46b9-8972-6606dc03f8e0",
   "metadata": {},
   "outputs": [],
   "source": [
    "bool_mapping = {'True': 1, 'False': 0, 't': 1, 'f': 0}\n",
    "x['host_identity_verified'] = x['host_identity_verified'].map(bool_mapping)"
   ]
  },
  {
   "cell_type": "code",
   "execution_count": 417,
   "id": "48dad0cb-47c1-45f8-8f13-09c272e1cc44",
   "metadata": {},
   "outputs": [],
   "source": [
    "x['host_identity_verified'] = x['host_identity_verified'].fillna(0)"
   ]
  },
  {
   "cell_type": "code",
   "execution_count": 418,
   "id": "d0e1810e-b9b2-4167-9f4a-6b789f23bd77",
   "metadata": {},
   "outputs": [
    {
     "data": {
      "text/plain": [
       "0        1.0\n",
       "1        1.0\n",
       "2        1.0\n",
       "3        1.0\n",
       "4        1.0\n",
       "        ... \n",
       "87941    1.0\n",
       "87942    1.0\n",
       "87943    1.0\n",
       "87944    1.0\n",
       "87945    1.0\n",
       "Name: host_identity_verified, Length: 87946, dtype: float64"
      ]
     },
     "execution_count": 418,
     "metadata": {},
     "output_type": "execute_result"
    }
   ],
   "source": [
    "x['host_identity_verified']"
   ]
  },
  {
   "cell_type": "code",
   "execution_count": 419,
   "id": "5830f43c-c624-4e97-8a61-03509fcca8e5",
   "metadata": {},
   "outputs": [
    {
     "data": {
      "text/plain": [
       "0"
      ]
     },
     "execution_count": 419,
     "metadata": {},
     "output_type": "execute_result"
    }
   ],
   "source": [
    "x['host_identity_verified'].isna().sum()"
   ]
  },
  {
   "cell_type": "code",
   "execution_count": 420,
   "id": "f779c2f2-c1a5-480e-a849-d31b9fbc1061",
   "metadata": {},
   "outputs": [],
   "source": [
    "hostIdentity_counts = x['host_identity_verified'].value_counts()"
   ]
  },
  {
   "cell_type": "code",
   "execution_count": 421,
   "id": "a4aa398d-4d2b-4ef5-9b93-f71e6efad4b7",
   "metadata": {},
   "outputs": [
    {
     "name": "stderr",
     "output_type": "stream",
     "text": [
      "C:\\Users\\Dhinakaran C\\AppData\\Local\\Temp\\ipykernel_844\\1463566641.py:2: FutureWarning: \n",
      "\n",
      "Passing `palette` without assigning `hue` is deprecated and will be removed in v0.14.0. Assign the `x` variable to `hue` and set `legend=False` for the same effect.\n",
      "\n",
      "  bar_plot = sns.barplot(x=hostIdentity_counts.index, y=hostIdentity_counts.values, palette=\"Set2\")\n",
      "C:\\Users\\Dhinakaran C\\AppData\\Local\\Temp\\ipykernel_844\\1463566641.py:3: UserWarning: set_ticklabels() should only be used with a fixed number of ticks, i.e. after set_ticks() or using a FixedLocator.\n",
      "  bar_plot.set_xticklabels(['False', 'True'])\n"
     ]
    },
    {
     "data": {
      "text/plain": [
       "[Text(0, 0, 'False'), Text(1, 0, 'True')]"
      ]
     },
     "execution_count": 421,
     "metadata": {},
     "output_type": "execute_result"
    },
    {
     "data": {
      "image/png": "[encoded data removed]",
      "text/plain": [
       "<Figure size 800x600 with 1 Axes>"
      ]
     },
     "metadata": {},
     "output_type": "display_data"
    }
   ],
   "source": [
    "plt.figure(figsize=(8, 6))\n",
    "bar_plot = sns.barplot(x=hostIdentity_counts.index, y=hostIdentity_counts.values, palette=\"Set2\")\n",
    "bar_plot.set_xticklabels(['False', 'True'])"
   ]
  },
  {
   "cell_type": "code",
   "execution_count": 422,
   "id": "11becea2-d890-4288-9af4-a6a6e672ee7b",
   "metadata": {},
   "outputs": [],
   "source": [
    "x['bathrooms'] = pd.to_numeric(x['bathrooms_text'].str.split(' ').str[0], errors='coerce')  "
   ]
  },
  {
   "cell_type": "markdown",
   "id": "a06ab884-fed9-4f15-983d-914277a69300",
   "metadata": {},
   "source": [
    "Over here since the bathrooms column have a lot of null values, i have used the bathroom text column to determine the number of bathrooms in the property"
   ]
  },
  {
   "cell_type": "code",
   "execution_count": 423,
   "id": "5630b98c-8a20-4e44-b048-53bb455215c1",
   "metadata": {},
   "outputs": [
    {
     "data": {
      "text/plain": [
       "0        1.5\n",
       "1        1.0\n",
       "2        1.0\n",
       "3        1.0\n",
       "4        1.0\n",
       "        ... \n",
       "87941    1.0\n",
       "87942    1.0\n",
       "87943    2.0\n",
       "87944    1.0\n",
       "87945    1.0\n",
       "Name: bathrooms, Length: 87946, dtype: float64"
      ]
     },
     "execution_count": 423,
     "metadata": {},
     "output_type": "execute_result"
    }
   ],
   "source": [
    "x['bathrooms']"
   ]
  },
  {
   "cell_type": "code",
   "execution_count": 424,
   "id": "0e5a9df5-2fa7-4d69-81f7-5cef56b96ce6",
   "metadata": {},
   "outputs": [
    {
     "data": {
      "text/plain": [
       "507"
      ]
     },
     "execution_count": 424,
     "metadata": {},
     "output_type": "execute_result"
    }
   ],
   "source": [
    "x['bathrooms'].isna().sum()"
   ]
  },
  {
   "cell_type": "code",
   "execution_count": 425,
   "id": "9802a6a6-5c8a-4136-b43f-aa1e625b8066",
   "metadata": {},
   "outputs": [],
   "source": [
    "mean_bathrooms = x['bathrooms'].mean()\n",
    "x['bathrooms'] = x['bathrooms'].fillna(mean_bathrooms)"
   ]
  },
  {
   "cell_type": "code",
   "execution_count": 426,
   "id": "459792db-15f9-4544-a1d8-dcada6b1f77b",
   "metadata": {},
   "outputs": [
    {
     "data": {
      "text/plain": [
       "0"
      ]
     },
     "execution_count": 426,
     "metadata": {},
     "output_type": "execute_result"
    }
   ],
   "source": [
    "x['bathrooms'].isna().sum()"
   ]
  },
  {
   "cell_type": "code",
   "execution_count": 427,
   "id": "87e06a2d-2619-4c2a-a40e-8684ef43d117",
   "metadata": {},
   "outputs": [],
   "source": [
    "x['bedrooms'] = x['name'].str.extractall(r'(\\d+)\\s*bedroom').groupby(level=0).apply(lambda x: ', '.join(x[0]))\n",
    "x['bedrooms'] = pd.to_numeric(x['bedrooms'])"
   ]
  },
  {
   "cell_type": "markdown",
   "id": "36bf88f2-4a11-433e-998a-fe1b363bfec2",
   "metadata": {},
   "source": [
    "Again since the bedrooms column had a lot of empty values, i went ahead and got the value i needed from name column which has the exact number of bedrooms available in the property"
   ]
  },
  {
   "cell_type": "code",
   "execution_count": 428,
   "id": "d592d5bb-e887-491c-944f-245902e847d5",
   "metadata": {},
   "outputs": [
    {
     "data": {
      "text/plain": [
       "0        1.0\n",
       "1        2.0\n",
       "2        1.0\n",
       "3        1.0\n",
       "4        1.0\n",
       "        ... \n",
       "87941    1.0\n",
       "87942    1.0\n",
       "87943    1.0\n",
       "87944    5.0\n",
       "87945    2.0\n",
       "Name: bedrooms, Length: 87946, dtype: float64"
      ]
     },
     "execution_count": 428,
     "metadata": {},
     "output_type": "execute_result"
    }
   ],
   "source": [
    "x['bedrooms']"
   ]
  },
  {
   "cell_type": "code",
   "execution_count": 429,
   "id": "cfe2af98-eb6b-4762-ae4b-ca3b28d894b5",
   "metadata": {},
   "outputs": [
    {
     "data": {
      "text/plain": [
       "3637"
      ]
     },
     "execution_count": 429,
     "metadata": {},
     "output_type": "execute_result"
    }
   ],
   "source": [
    "x['bedrooms'].isna().sum()"
   ]
  },
  {
   "cell_type": "code",
   "execution_count": 430,
   "id": "e9b7e444-c2ba-471a-8faa-5d922cfc6280",
   "metadata": {},
   "outputs": [],
   "source": [
    "mean_of_bedrooms = x['bedrooms'].mean()\n",
    "x['bedrooms'] = x['bedrooms'].fillna(mean_of_bedrooms)"
   ]
  },
  {
   "cell_type": "code",
   "execution_count": 431,
   "id": "e4fc3306-573a-4a03-a126-5ccbc579fd22",
   "metadata": {},
   "outputs": [
    {
     "data": {
      "text/plain": [
       "0"
      ]
     },
     "execution_count": 431,
     "metadata": {},
     "output_type": "execute_result"
    }
   ],
   "source": [
    "x['bedrooms'].isna().sum()"
   ]
  },
  {
   "cell_type": "code",
   "execution_count": 432,
   "id": "2818e76d-f232-4391-a387-cb03769d8d95",
   "metadata": {},
   "outputs": [
    {
     "data": {
      "text/plain": [
       "0         5\n",
       "1         9\n",
       "2         9\n",
       "3        10\n",
       "4         9\n",
       "         ..\n",
       "87941     7\n",
       "87942     9\n",
       "87943    10\n",
       "87944     6\n",
       "87945     9\n",
       "Name: amenities_sum, Length: 87946, dtype: int64"
      ]
     },
     "execution_count": 432,
     "metadata": {},
     "output_type": "execute_result"
    }
   ],
   "source": [
    "top_amenities = x['amenities'].str.split(',').explode().str.strip().value_counts().index[:10]\n",
    "for amenity in top_amenities:\n",
    "    x[f'has_{amenity.lower().replace(\" \", \"_\")}'] = x['amenities'].apply(lambda x: amenity in x).astype(int)\n",
    "x['amenities_sum'] = x[[f'has_{amenity.lower().replace(\" \", \"_\")}' for amenity in top_amenities]].sum(axis=1)\n",
    "x['amenities_sum']"
   ]
  },
  {
   "cell_type": "markdown",
   "id": "3e2416ed-53f2-456a-900d-b264d0653da4",
   "metadata": {},
   "source": [
    "Over here Im ranking the amenities from 1-10 based on the common use. I have created 10 new columns for each of those amenities and a seperate column for the sum of these amenities."
   ]
  },
  {
   "cell_type": "code",
   "execution_count": 433,
   "id": "d7538ca7-ca32-48bc-907d-f7ab5104658f",
   "metadata": {},
   "outputs": [
    {
     "data": {
      "text/plain": [
       "count    87946.000000\n",
       "mean         7.512098\n",
       "std          2.158387\n",
       "min          0.000000\n",
       "25%          6.000000\n",
       "50%          8.000000\n",
       "75%          9.000000\n",
       "max         10.000000\n",
       "Name: amenities_sum, dtype: float64"
      ]
     },
     "execution_count": 433,
     "metadata": {},
     "output_type": "execute_result"
    }
   ],
   "source": [
    "x['amenities_sum'].describe()"
   ]
  },
  {
   "cell_type": "code",
   "execution_count": 434,
   "id": "7375a9d3-6a7a-4797-8898-305b3c314e23",
   "metadata": {},
   "outputs": [
    {
     "data": {
      "text/plain": [
       "0"
      ]
     },
     "execution_count": 434,
     "metadata": {},
     "output_type": "execute_result"
    }
   ],
   "source": [
    "x[\"price\"].isna().sum()"
   ]
  },
  {
   "cell_type": "code",
   "execution_count": 435,
   "id": "0b695348-7eea-492f-b1e8-5a6036a4dfee",
   "metadata": {},
   "outputs": [],
   "source": [
    "x['price'] = x['price'].str.replace('$', '')"
   ]
  },
  {
   "cell_type": "code",
   "execution_count": 436,
   "id": "77853c9b-2917-476f-b4d7-1f9f729142f9",
   "metadata": {},
   "outputs": [],
   "source": [
    "x['price'] = x['price'].str.replace(',', '').astype(float)"
   ]
  },
  {
   "cell_type": "markdown",
   "id": "cfd0b2eb-0845-4cb7-af4b-9f21749734ad",
   "metadata": {},
   "source": [
    "Over here I'm trying to remove the dollar symbol from price and convert it to float for easy workflow during predicting"
   ]
  },
  {
   "cell_type": "code",
   "execution_count": 437,
   "id": "54ee72c0-c030-4ab0-9be7-0604f67468e4",
   "metadata": {},
   "outputs": [
    {
     "data": {
      "text/plain": [
       "count    87946.000000\n",
       "mean       181.349817\n",
       "std        486.174310\n",
       "min          0.000000\n",
       "25%         63.000000\n",
       "50%        110.000000\n",
       "75%        193.000000\n",
       "max      80100.000000\n",
       "Name: price, dtype: float64"
      ]
     },
     "execution_count": 437,
     "metadata": {},
     "output_type": "execute_result"
    }
   ],
   "source": [
    "x['price'].describe()"
   ]
  },
  {
   "cell_type": "code",
   "execution_count": 438,
   "id": "18475ca4-7235-4f96-817a-c72912109342",
   "metadata": {},
   "outputs": [
    {
     "data": {
      "text/plain": [
       "count    87946.000000\n",
       "mean       121.112808\n",
       "std        134.554102\n",
       "min          0.000000\n",
       "25%          0.000000\n",
       "50%         65.000000\n",
       "75%        249.000000\n",
       "max        365.000000\n",
       "Name: availability_365, dtype: float64"
      ]
     },
     "execution_count": 438,
     "metadata": {},
     "output_type": "execute_result"
    }
   ],
   "source": [
    "x['availability_365'].describe()"
   ]
  },
  {
   "cell_type": "code",
   "execution_count": 439,
   "id": "44e3c25f-525a-4c46-9aa4-3fae2fe2b1e5",
   "metadata": {},
   "outputs": [
    {
     "data": {
      "text/plain": [
       "count    87946.000000\n",
       "mean         5.797194\n",
       "std         12.748319\n",
       "min          0.000000\n",
       "25%          0.000000\n",
       "50%          1.000000\n",
       "75%          6.000000\n",
       "max        594.000000\n",
       "Name: number_of_reviews_ltm, dtype: float64"
      ]
     },
     "execution_count": 439,
     "metadata": {},
     "output_type": "execute_result"
    }
   ],
   "source": [
    "x['number_of_reviews_ltm'].describe()"
   ]
  },
  {
   "cell_type": "code",
   "execution_count": 440,
   "id": "84e4eca2-20fb-4a6c-b311-19902b61f5c4",
   "metadata": {},
   "outputs": [],
   "source": [
    "x[['review_scores_rating','review_scores_accuracy',\n",
    "    'review_scores_cleanliness','review_scores_checkin',\n",
    "    'review_scores_communication','review_scores_location',\n",
    "    'review_scores_value']] = x[['review_scores_rating','review_scores_accuracy',\n",
    "                                  'review_scores_cleanliness','review_scores_checkin',\n",
    "                                  'review_scores_communication','review_scores_location',\n",
    "                                  'review_scores_value']].fillna(0)"
   ]
  },
  {
   "cell_type": "code",
   "execution_count": 441,
   "id": "b5b5c215-567d-4b87-a4eb-59cc2bb24db3",
   "metadata": {},
   "outputs": [],
   "source": [
    "x['average_review_rating'] = x[['review_scores_rating','review_scores_accuracy',\n",
    "                                  'review_scores_cleanliness','review_scores_checkin',\n",
    "                                  'review_scores_communication','review_scores_location',\n",
    "                                  'review_scores_value']].mean(axis=1)"
   ]
  },
  {
   "cell_type": "markdown",
   "id": "da261508-c0d7-4276-a448-19d2d20f16f6",
   "metadata": {},
   "source": [
    "All the review columns have the ratings for seperate services and I have added those ratings and got an average out of it to make it 1 common column called average review rating"
   ]
  },
  {
   "cell_type": "code",
   "execution_count": 442,
   "id": "9460ad05-e775-404a-8961-fd95cdebf4de",
   "metadata": {},
   "outputs": [
    {
     "data": {
      "text/plain": [
       "0        4.680000\n",
       "1        4.788571\n",
       "2        4.740000\n",
       "3        4.844286\n",
       "4        4.665714\n",
       "           ...   \n",
       "87941    0.000000\n",
       "87942    0.000000\n",
       "87943    0.000000\n",
       "87944    0.000000\n",
       "87945    0.000000\n",
       "Name: average_review_rating, Length: 87946, dtype: float64"
      ]
     },
     "execution_count": 442,
     "metadata": {},
     "output_type": "execute_result"
    }
   ],
   "source": [
    "x['average_review_rating']"
   ]
  },
  {
   "cell_type": "code",
   "execution_count": 443,
   "id": "52937968-f294-42a8-a261-12675664610c",
   "metadata": {},
   "outputs": [
    {
     "data": {
      "text/plain": [
       "0        t\n",
       "1        f\n",
       "2        f\n",
       "3        f\n",
       "4        f\n",
       "        ..\n",
       "87941    f\n",
       "87942    f\n",
       "87943    f\n",
       "87944    t\n",
       "87945    f\n",
       "Name: instant_bookable, Length: 87946, dtype: object"
      ]
     },
     "execution_count": 443,
     "metadata": {},
     "output_type": "execute_result"
    }
   ],
   "source": [
    "x['instant_bookable']"
   ]
  },
  {
   "cell_type": "code",
   "execution_count": 444,
   "id": "0881bf3c-b3f7-4733-bea5-9da8389cb26b",
   "metadata": {},
   "outputs": [
    {
     "data": {
      "text/plain": [
       "0"
      ]
     },
     "execution_count": 444,
     "metadata": {},
     "output_type": "execute_result"
    }
   ],
   "source": [
    "x['instant_bookable'].isna().sum()"
   ]
  },
  {
   "cell_type": "code",
   "execution_count": 445,
   "id": "28aad8e2-2025-413b-acdc-dbc9ecf3feb3",
   "metadata": {},
   "outputs": [],
   "source": [
    "bool_mapping = {'True': 1, 'False': 0, 't': 1, 'f': 0}\n",
    "x['instant_bookable'] = x['instant_bookable'].map(bool_mapping)"
   ]
  },
  {
   "cell_type": "code",
   "execution_count": 446,
   "id": "8d00c5d1-c521-49da-aad2-d1dc3209391f",
   "metadata": {},
   "outputs": [
    {
     "data": {
      "text/plain": [
       "0        1\n",
       "1        0\n",
       "2        0\n",
       "3        0\n",
       "4        0\n",
       "        ..\n",
       "87941    0\n",
       "87942    0\n",
       "87943    0\n",
       "87944    1\n",
       "87945    0\n",
       "Name: instant_bookable, Length: 87946, dtype: int64"
      ]
     },
     "execution_count": 446,
     "metadata": {},
     "output_type": "execute_result"
    }
   ],
   "source": [
    "x['instant_bookable']"
   ]
  },
  {
   "cell_type": "code",
   "execution_count": 447,
   "id": "6e65cdda-161a-4b12-ae6b-cb795d3dde63",
   "metadata": {},
   "outputs": [
    {
     "data": {
      "text/plain": [
       "count    65788.000000\n",
       "mean         1.014903\n",
       "std          1.365452\n",
       "min          0.010000\n",
       "25%          0.150000\n",
       "50%          0.540000\n",
       "75%          1.320000\n",
       "max         50.250000\n",
       "Name: reviews_per_month, dtype: float64"
      ]
     },
     "execution_count": 447,
     "metadata": {},
     "output_type": "execute_result"
    }
   ],
   "source": [
    "x['reviews_per_month'].describe()"
   ]
  },
  {
   "cell_type": "code",
   "execution_count": 448,
   "id": "5582098a-2c03-4ad1-99cf-cf6dc194a338",
   "metadata": {},
   "outputs": [],
   "source": [
    "x['reviews_per_month'] = x['reviews_per_month'].fillna(0)"
   ]
  },
  {
   "cell_type": "markdown",
   "id": "5a6f8c83-ce12-4433-87dd-b13fe4638067",
   "metadata": {},
   "source": [
    "Eventhough this is not the right way to fill up the missing ratings, since I'm aware that it could impact the output in various ways, I'm still opting to go with fill it with 0 method since it is a very less percentage of data with null values and the min rating also happens to be 0."
   ]
  },
  {
   "cell_type": "code",
   "execution_count": 449,
   "id": "f55fbd19-87bd-4b7a-9bec-b4758fae6d52",
   "metadata": {},
   "outputs": [
    {
     "data": {
      "text/plain": [
       "count    87946.000000\n",
       "mean         0.759198\n",
       "std          1.260490\n",
       "min          0.000000\n",
       "25%          0.000000\n",
       "50%          0.250000\n",
       "75%          1.000000\n",
       "max         50.250000\n",
       "Name: reviews_per_month, dtype: float64"
      ]
     },
     "execution_count": 449,
     "metadata": {},
     "output_type": "execute_result"
    }
   ],
   "source": [
    "x['reviews_per_month'].describe()"
   ]
  },
  {
   "cell_type": "code",
   "execution_count": 450,
   "id": "088fe9b4-6a38-4825-bf20-9abf63f63110",
   "metadata": {},
   "outputs": [
    {
     "data": {
      "text/html": [
       "<div>\n",
       "<style scoped>\n",
       "    .dataframe tbody tr th:only-of-type {\n",
       "        vertical-align: middle;\n",
       "    }\n",
       "\n",
       "    .dataframe tbody tr th {\n",
       "        vertical-align: top;\n",
       "    }\n",
       "\n",
       "    .dataframe thead th {\n",
       "        text-align: right;\n",
       "    }\n",
       "</style>\n",
       "<table border=\"1\" class=\"dataframe\">\n",
       "  <thead>\n",
       "    <tr style=\"text-align: right;\">\n",
       "      <th></th>\n",
       "      <th>id</th>\n",
       "      <th>listing_url</th>\n",
       "      <th>scrape_id</th>\n",
       "      <th>last_scraped</th>\n",
       "      <th>source</th>\n",
       "      <th>name</th>\n",
       "      <th>description</th>\n",
       "      <th>neighborhood_overview</th>\n",
       "      <th>picture_url</th>\n",
       "      <th>host_id</th>\n",
       "      <th>...</th>\n",
       "      <th>has_\"kitchen\"</th>\n",
       "      <th>has_\"iron\"</th>\n",
       "      <th>has_\"washer\"</th>\n",
       "      <th>has_\"essentials\"</th>\n",
       "      <th>has_\"hair_dryer\"</th>\n",
       "      <th>has_\"hot_water\"</th>\n",
       "      <th>has_\"carbon_monoxide_alarm\"</th>\n",
       "      <th>has_\"dishes_and_silverware\"</th>\n",
       "      <th>amenities_sum</th>\n",
       "      <th>average_review_rating</th>\n",
       "    </tr>\n",
       "  </thead>\n",
       "  <tbody>\n",
       "    <tr>\n",
       "      <th>0</th>\n",
       "      <td>92644</td>\n",
       "      <td>https://www.airbnb.com/rooms/92644</td>\n",
       "      <td>20230906022807</td>\n",
       "      <td>2023-09-06</td>\n",
       "      <td>city scrape</td>\n",
       "      <td>Rental unit in Earlsfield · ★4.57 · 1 bedroom ...</td>\n",
       "      <td>&lt;b&gt;The space&lt;/b&gt;&lt;br /&gt;Hi everyone! I have 2 ro...</td>\n",
       "      <td>NaN</td>\n",
       "      <td>https://a0.muscache.com/pictures/715127/85bdb4...</td>\n",
       "      <td>498201</td>\n",
       "      <td>...</td>\n",
       "      <td>1</td>\n",
       "      <td>0</td>\n",
       "      <td>1</td>\n",
       "      <td>1</td>\n",
       "      <td>0</td>\n",
       "      <td>0</td>\n",
       "      <td>0</td>\n",
       "      <td>0</td>\n",
       "      <td>5</td>\n",
       "      <td>4.680000</td>\n",
       "    </tr>\n",
       "    <tr>\n",
       "      <th>1</th>\n",
       "      <td>93015</td>\n",
       "      <td>https://www.airbnb.com/rooms/93015</td>\n",
       "      <td>20230906022807</td>\n",
       "      <td>2023-09-06</td>\n",
       "      <td>city scrape</td>\n",
       "      <td>Rental unit in Hammersmith · ★4.82 · 2 bedroom...</td>\n",
       "      <td>Gorgeous 2 bed ground floor apartment with per...</td>\n",
       "      <td>A bit of history about the W14 area: &lt;br /&gt;Com...</td>\n",
       "      <td>https://a0.muscache.com/pictures/865937ec-ee56...</td>\n",
       "      <td>499704</td>\n",
       "      <td>...</td>\n",
       "      <td>1</td>\n",
       "      <td>1</td>\n",
       "      <td>1</td>\n",
       "      <td>1</td>\n",
       "      <td>1</td>\n",
       "      <td>1</td>\n",
       "      <td>1</td>\n",
       "      <td>1</td>\n",
       "      <td>9</td>\n",
       "      <td>4.788571</td>\n",
       "    </tr>\n",
       "    <tr>\n",
       "      <th>2</th>\n",
       "      <td>13913</td>\n",
       "      <td>https://www.airbnb.com/rooms/13913</td>\n",
       "      <td>20230906022807</td>\n",
       "      <td>2023-09-06</td>\n",
       "      <td>city scrape</td>\n",
       "      <td>Rental unit in Islington · ★4.80 · 1 bedroom ·...</td>\n",
       "      <td>My bright double bedroom with a large window h...</td>\n",
       "      <td>Finsbury Park is a friendly melting pot commun...</td>\n",
       "      <td>https://a0.muscache.com/pictures/miso/Hosting-...</td>\n",
       "      <td>54730</td>\n",
       "      <td>...</td>\n",
       "      <td>1</td>\n",
       "      <td>1</td>\n",
       "      <td>0</td>\n",
       "      <td>1</td>\n",
       "      <td>1</td>\n",
       "      <td>1</td>\n",
       "      <td>1</td>\n",
       "      <td>1</td>\n",
       "      <td>9</td>\n",
       "      <td>4.740000</td>\n",
       "    </tr>\n",
       "    <tr>\n",
       "      <th>3</th>\n",
       "      <td>15400</td>\n",
       "      <td>https://www.airbnb.com/rooms/15400</td>\n",
       "      <td>20230906022807</td>\n",
       "      <td>2023-09-06</td>\n",
       "      <td>city scrape</td>\n",
       "      <td>Rental unit in London · ★4.80 · 1 bedroom · 1 ...</td>\n",
       "      <td>Lots of windows and light.  St Luke's Gardens ...</td>\n",
       "      <td>It is Chelsea.</td>\n",
       "      <td>https://a0.muscache.com/pictures/428392/462d26...</td>\n",
       "      <td>60302</td>\n",
       "      <td>...</td>\n",
       "      <td>1</td>\n",
       "      <td>1</td>\n",
       "      <td>1</td>\n",
       "      <td>1</td>\n",
       "      <td>1</td>\n",
       "      <td>1</td>\n",
       "      <td>1</td>\n",
       "      <td>1</td>\n",
       "      <td>10</td>\n",
       "      <td>4.844286</td>\n",
       "    </tr>\n",
       "    <tr>\n",
       "      <th>4</th>\n",
       "      <td>93734</td>\n",
       "      <td>https://www.airbnb.com/rooms/93734</td>\n",
       "      <td>20230906022807</td>\n",
       "      <td>2023-09-07</td>\n",
       "      <td>city scrape</td>\n",
       "      <td>Condo in London · ★4.62 · 1 bedroom · 1 bed · ...</td>\n",
       "      <td>&lt;b&gt;During your stay&lt;/b&gt;&lt;br /&gt;I’m a professiona...</td>\n",
       "      <td>NaN</td>\n",
       "      <td>https://a0.muscache.com/pictures/miso/Hosting-...</td>\n",
       "      <td>497514</td>\n",
       "      <td>...</td>\n",
       "      <td>1</td>\n",
       "      <td>1</td>\n",
       "      <td>0</td>\n",
       "      <td>1</td>\n",
       "      <td>1</td>\n",
       "      <td>1</td>\n",
       "      <td>1</td>\n",
       "      <td>1</td>\n",
       "      <td>9</td>\n",
       "      <td>4.665714</td>\n",
       "    </tr>\n",
       "  </tbody>\n",
       "</table>\n",
       "<p>5 rows × 87 columns</p>\n",
       "</div>"
      ],
      "text/plain": [
       "      id                         listing_url       scrape_id last_scraped  \\\n",
       "0  92644  https://www.airbnb.com/rooms/92644  20230906022807   2023-09-06   \n",
       "1  93015  https://www.airbnb.com/rooms/93015  20230906022807   2023-09-06   \n",
       "2  13913  https://www.airbnb.com/rooms/13913  20230906022807   2023-09-06   \n",
       "3  15400  https://www.airbnb.com/rooms/15400  20230906022807   2023-09-06   \n",
       "4  93734  https://www.airbnb.com/rooms/93734  20230906022807   2023-09-07   \n",
       "\n",
       "        source                                               name  \\\n",
       "0  city scrape  Rental unit in Earlsfield · ★4.57 · 1 bedroom ...   \n",
       "1  city scrape  Rental unit in Hammersmith · ★4.82 · 2 bedroom...   \n",
       "2  city scrape  Rental unit in Islington · ★4.80 · 1 bedroom ·...   \n",
       "3  city scrape  Rental unit in London · ★4.80 · 1 bedroom · 1 ...   \n",
       "4  city scrape  Condo in London · ★4.62 · 1 bedroom · 1 bed · ...   \n",
       "\n",
       "                                         description  \\\n",
       "0  <b>The space</b><br />Hi everyone! I have 2 ro...   \n",
       "1  Gorgeous 2 bed ground floor apartment with per...   \n",
       "2  My bright double bedroom with a large window h...   \n",
       "3  Lots of windows and light.  St Luke's Gardens ...   \n",
       "4  <b>During your stay</b><br />I’m a professiona...   \n",
       "\n",
       "                               neighborhood_overview  \\\n",
       "0                                                NaN   \n",
       "1  A bit of history about the W14 area: <br />Com...   \n",
       "2  Finsbury Park is a friendly melting pot commun...   \n",
       "3                                     It is Chelsea.   \n",
       "4                                                NaN   \n",
       "\n",
       "                                         picture_url  host_id  ...  \\\n",
       "0  https://a0.muscache.com/pictures/715127/85bdb4...   498201  ...   \n",
       "1  https://a0.muscache.com/pictures/865937ec-ee56...   499704  ...   \n",
       "2  https://a0.muscache.com/pictures/miso/Hosting-...    54730  ...   \n",
       "3  https://a0.muscache.com/pictures/428392/462d26...    60302  ...   \n",
       "4  https://a0.muscache.com/pictures/miso/Hosting-...   497514  ...   \n",
       "\n",
       "  has_\"kitchen\" has_\"iron\" has_\"washer\" has_\"essentials\" has_\"hair_dryer\"  \\\n",
       "0             1          0            1                1                0   \n",
       "1             1          1            1                1                1   \n",
       "2             1          1            0                1                1   \n",
       "3             1          1            1                1                1   \n",
       "4             1          1            0                1                1   \n",
       "\n",
       "  has_\"hot_water\" has_\"carbon_monoxide_alarm\" has_\"dishes_and_silverware\"  \\\n",
       "0               0                           0                           0   \n",
       "1               1                           1                           1   \n",
       "2               1                           1                           1   \n",
       "3               1                           1                           1   \n",
       "4               1                           1                           1   \n",
       "\n",
       "   amenities_sum average_review_rating  \n",
       "0              5              4.680000  \n",
       "1              9              4.788571  \n",
       "2              9              4.740000  \n",
       "3             10              4.844286  \n",
       "4              9              4.665714  \n",
       "\n",
       "[5 rows x 87 columns]"
      ]
     },
     "execution_count": 450,
     "metadata": {},
     "output_type": "execute_result"
    }
   ],
   "source": [
    "x.head()"
   ]
  },
  {
   "cell_type": "markdown",
   "id": "34446650-dab7-4080-b640-42a2e3928d46",
   "metadata": {},
   "source": [
    "After this I have just normalised all the values in the column that I will be using in my model to get a fair consistency throughout the variables used to build the model"
   ]
  },
  {
   "cell_type": "code",
   "execution_count": 451,
   "id": "cf050145-249a-4994-989e-790383c72de5",
   "metadata": {},
   "outputs": [
    {
     "data": {
      "text/plain": [
       "0        0.0\n",
       "1        0.0\n",
       "2        0.0\n",
       "3        0.0\n",
       "4        1.0\n",
       "        ... \n",
       "87941    1.0\n",
       "87942    0.0\n",
       "87943    0.0\n",
       "87944    0.0\n",
       "87945    0.0\n",
       "Name: host_is_superhost, Length: 87946, dtype: float64"
      ]
     },
     "execution_count": 451,
     "metadata": {},
     "output_type": "execute_result"
    }
   ],
   "source": [
    "max_value_superhost = x['host_is_superhost'].max()\n",
    "x['host_is_superhost'] = x['host_is_superhost']/ max_value_superhost\n",
    "x['host_is_superhost']"
   ]
  },
  {
   "cell_type": "code",
   "execution_count": 452,
   "id": "a35f85d8-c97d-4d3f-84cc-7452678e437c",
   "metadata": {},
   "outputs": [
    {
     "data": {
      "text/plain": [
       "0        1.0\n",
       "1        1.0\n",
       "2        1.0\n",
       "3        1.0\n",
       "4        1.0\n",
       "        ... \n",
       "87941    1.0\n",
       "87942    1.0\n",
       "87943    1.0\n",
       "87944    1.0\n",
       "87945    1.0\n",
       "Name: host_identity_verified, Length: 87946, dtype: float64"
      ]
     },
     "execution_count": 452,
     "metadata": {},
     "output_type": "execute_result"
    }
   ],
   "source": [
    "max_value_verified = x['host_identity_verified'].max()\n",
    "x['host_identity_verified'] = x['host_identity_verified']/ max_value_verified\n",
    "x['host_identity_verified']"
   ]
  },
  {
   "cell_type": "code",
   "execution_count": 453,
   "id": "6bb1c9f5-f965-4c56-986a-cb86e2e6e8bc",
   "metadata": {},
   "outputs": [
    {
     "data": {
      "text/plain": [
       "0        0.031250\n",
       "1        0.020833\n",
       "2        0.020833\n",
       "3        0.020833\n",
       "4        0.020833\n",
       "           ...   \n",
       "87941    0.020833\n",
       "87942    0.020833\n",
       "87943    0.041667\n",
       "87944    0.020833\n",
       "87945    0.020833\n",
       "Name: bathrooms, Length: 87946, dtype: float64"
      ]
     },
     "execution_count": 453,
     "metadata": {},
     "output_type": "execute_result"
    }
   ],
   "source": [
    "max_value_bathrooms = x['bathrooms'].max()\n",
    "x['bathrooms'] = x['bathrooms']/ max_value_bathrooms\n",
    "x['bathrooms']"
   ]
  },
  {
   "cell_type": "code",
   "execution_count": 454,
   "id": "80d50ca7-6eca-45e1-89ac-06cacd63e584",
   "metadata": {},
   "outputs": [
    {
     "data": {
      "text/plain": [
       "0        0.02\n",
       "1        0.04\n",
       "2        0.02\n",
       "3        0.02\n",
       "4        0.02\n",
       "         ... \n",
       "87941    0.02\n",
       "87942    0.02\n",
       "87943    0.02\n",
       "87944    0.10\n",
       "87945    0.04\n",
       "Name: bedrooms, Length: 87946, dtype: float64"
      ]
     },
     "execution_count": 454,
     "metadata": {},
     "output_type": "execute_result"
    }
   ],
   "source": [
    "max_value_bedrooms = x['bedrooms'].max()\n",
    "x['bedrooms'] = x['bedrooms']/ max_value_bedrooms\n",
    "x['bedrooms']"
   ]
  },
  {
   "cell_type": "code",
   "execution_count": 455,
   "id": "7d531d24-76f9-4d7b-9b12-4e3c044b1693",
   "metadata": {},
   "outputs": [
    {
     "data": {
      "text/plain": [
       "0        0.5\n",
       "1        0.9\n",
       "2        0.9\n",
       "3        1.0\n",
       "4        0.9\n",
       "        ... \n",
       "87941    0.7\n",
       "87942    0.9\n",
       "87943    1.0\n",
       "87944    0.6\n",
       "87945    0.9\n",
       "Name: amenities_sum, Length: 87946, dtype: float64"
      ]
     },
     "execution_count": 455,
     "metadata": {},
     "output_type": "execute_result"
    }
   ],
   "source": [
    "max_value_amenities = x['amenities_sum'].max()\n",
    "x['amenities_sum'] = x['amenities_sum']/ max_value_amenities\n",
    "x['amenities_sum']"
   ]
  },
  {
   "cell_type": "code",
   "execution_count": 456,
   "id": "3e7681a5-cdee-4078-8859-d47fe77da576",
   "metadata": {},
   "outputs": [
    {
     "data": {
      "text/plain": [
       "0        0.000524\n",
       "1        0.002185\n",
       "2        0.000986\n",
       "3        0.001873\n",
       "4        0.000574\n",
       "           ...   \n",
       "87941    0.003433\n",
       "87942    0.001810\n",
       "87943    0.001998\n",
       "87944    0.008489\n",
       "87945    0.002122\n",
       "Name: price, Length: 87946, dtype: float64"
      ]
     },
     "execution_count": 456,
     "metadata": {},
     "output_type": "execute_result"
    }
   ],
   "source": [
    "max_value_price = x['price'].max()\n",
    "x['price'] = x['price']/ max_value_price\n",
    "x['price']"
   ]
  },
  {
   "cell_type": "code",
   "execution_count": 457,
   "id": "2a42d636-91f8-46bb-9971-c524e85f0d8f",
   "metadata": {},
   "outputs": [
    {
     "data": {
      "text/plain": [
       "0        0.594521\n",
       "1        0.109589\n",
       "2        0.986301\n",
       "3        0.200000\n",
       "4        0.536986\n",
       "           ...   \n",
       "87941    0.654795\n",
       "87942    0.241096\n",
       "87943    0.219178\n",
       "87944    0.997260\n",
       "87945    0.813699\n",
       "Name: availability_365, Length: 87946, dtype: float64"
      ]
     },
     "execution_count": 457,
     "metadata": {},
     "output_type": "execute_result"
    }
   ],
   "source": [
    "max_value_availability = x['availability_365'].max()\n",
    "x['availability_365'] = x['availability_365']/ max_value_availability\n",
    "x['availability_365']"
   ]
  },
  {
   "cell_type": "code",
   "execution_count": 458,
   "id": "e6244d26-9d68-42ab-ba98-ab5ff06455a3",
   "metadata": {},
   "outputs": [
    {
     "data": {
      "text/plain": [
       "0        0.015152\n",
       "1        0.003367\n",
       "2        0.018519\n",
       "3        0.008418\n",
       "4        0.042088\n",
       "           ...   \n",
       "87941    0.000000\n",
       "87942    0.000000\n",
       "87943    0.000000\n",
       "87944    0.000000\n",
       "87945    0.000000\n",
       "Name: number_of_reviews_ltm, Length: 87946, dtype: float64"
      ]
     },
     "execution_count": 458,
     "metadata": {},
     "output_type": "execute_result"
    }
   ],
   "source": [
    "max_value_number_reviews = x['number_of_reviews_ltm'].max()\n",
    "x['number_of_reviews_ltm'] = x['number_of_reviews_ltm']/ max_value_number_reviews\n",
    "x['number_of_reviews_ltm']"
   ]
  },
  {
   "cell_type": "code",
   "execution_count": 459,
   "id": "b86f819d-1036-4ea0-9e38-6256ae939aca",
   "metadata": {},
   "outputs": [
    {
     "data": {
      "text/plain": [
       "0        0.936000\n",
       "1        0.957714\n",
       "2        0.948000\n",
       "3        0.968857\n",
       "4        0.933143\n",
       "           ...   \n",
       "87941    0.000000\n",
       "87942    0.000000\n",
       "87943    0.000000\n",
       "87944    0.000000\n",
       "87945    0.000000\n",
       "Name: average_review_rating, Length: 87946, dtype: float64"
      ]
     },
     "execution_count": 459,
     "metadata": {},
     "output_type": "execute_result"
    }
   ],
   "source": [
    "max_value_average_reviews = x['average_review_rating'].max()\n",
    "x['average_review_rating'] = x['average_review_rating']/ max_value_average_reviews\n",
    "x['average_review_rating']"
   ]
  },
  {
   "cell_type": "code",
   "execution_count": 460,
   "id": "4daf3acb-3ef0-40f0-b589-7875eaa657ab",
   "metadata": {},
   "outputs": [
    {
     "data": {
      "text/plain": [
       "0        1.0\n",
       "1        0.0\n",
       "2        0.0\n",
       "3        0.0\n",
       "4        0.0\n",
       "        ... \n",
       "87941    0.0\n",
       "87942    0.0\n",
       "87943    0.0\n",
       "87944    1.0\n",
       "87945    0.0\n",
       "Name: instant_bookable, Length: 87946, dtype: float64"
      ]
     },
     "execution_count": 460,
     "metadata": {},
     "output_type": "execute_result"
    }
   ],
   "source": [
    "max_value_bookable = x['instant_bookable'].max()\n",
    "x['instant_bookable'] = x['instant_bookable']/ max_value_bookable\n",
    "x['instant_bookable']"
   ]
  },
  {
   "cell_type": "code",
   "execution_count": 461,
   "id": "aba7d863-467d-4479-a099-809080511bcf",
   "metadata": {},
   "outputs": [
    {
     "data": {
      "text/plain": [
       "0        0.028856\n",
       "1        0.005373\n",
       "2        0.005174\n",
       "3        0.011144\n",
       "4        0.024080\n",
       "           ...   \n",
       "87941    0.000000\n",
       "87942    0.000000\n",
       "87943    0.000000\n",
       "87944    0.000000\n",
       "87945    0.000000\n",
       "Name: reviews_per_month, Length: 87946, dtype: float64"
      ]
     },
     "execution_count": 461,
     "metadata": {},
     "output_type": "execute_result"
    }
   ],
   "source": [
    "max_value_reviews_per_month = x['reviews_per_month'].max()\n",
    "x['reviews_per_month'] = x['reviews_per_month']/ max_value_reviews_per_month\n",
    "x['reviews_per_month']"
   ]
  },
  {
   "cell_type": "code",
   "execution_count": 462,
   "id": "ed2d1999-10cb-4fde-8d95-de2f7d3de6c6",
   "metadata": {},
   "outputs": [
    {
     "name": "stdout",
     "output_type": "stream",
     "text": [
      "Requirement already satisfied: scikit-learn in c:\\users\\dhinakaran c\\appdata\\local\\programs\\python\\python312\\lib\\site-packages (1.3.2)\n",
      "Requirement already satisfied: numpy<2.0,>=1.17.3 in c:\\users\\dhinakaran c\\appdata\\local\\programs\\python\\python312\\lib\\site-packages (from scikit-learn) (1.26.3)\n",
      "Requirement already satisfied: scipy>=1.5.0 in c:\\users\\dhinakaran c\\appdata\\local\\programs\\python\\python312\\lib\\site-packages (from scikit-learn) (1.11.4)\n",
      "Requirement already satisfied: joblib>=1.1.1 in c:\\users\\dhinakaran c\\appdata\\local\\programs\\python\\python312\\lib\\site-packages (from scikit-learn) (1.3.2)\n",
      "Requirement already satisfied: threadpoolctl>=2.0.0 in c:\\users\\dhinakaran c\\appdata\\local\\programs\\python\\python312\\lib\\site-packages (from scikit-learn) (3.2.0)\n",
      "Note: you may need to restart the kernel to use updated packages.\n"
     ]
    },
    {
     "name": "stderr",
     "output_type": "stream",
     "text": [
      "\n",
      "[notice] A new release of pip is available: 23.2.1 -> 23.3.2\n",
      "[notice] To update, run: python.exe -m pip install --upgrade pip\n"
     ]
    }
   ],
   "source": [
    "pip install scikit-learn"
   ]
  },
  {
   "cell_type": "code",
   "execution_count": 463,
   "id": "0696e388-a776-46e6-85d5-ba651d82237b",
   "metadata": {},
   "outputs": [],
   "source": [
    "from sklearn.model_selection import train_test_split"
   ]
  },
  {
   "cell_type": "code",
   "execution_count": 464,
   "id": "05e61aea-1dfd-46ee-9e46-0840d28b08f4",
   "metadata": {},
   "outputs": [],
   "source": [
    "from sklearn.linear_model import LogisticRegression"
   ]
  },
  {
   "cell_type": "code",
   "execution_count": 465,
   "id": "e5d15127-925f-45e2-b820-262f46fd2d45",
   "metadata": {},
   "outputs": [],
   "source": [
    "from sklearn.metrics import accuracy_score, classification_report, confusion_matrix"
   ]
  },
  {
   "cell_type": "code",
   "execution_count": 466,
   "id": "b19dc666-cec8-4b46-b1ce-95b4a4c55473",
   "metadata": {},
   "outputs": [
    {
     "data": {
      "text/plain": [
       "0        2.127118\n",
       "1        1.842639\n",
       "2        2.196012\n",
       "3        1.974506\n",
       "4        2.337179\n",
       "           ...   \n",
       "87941    1.524664\n",
       "87942    1.217887\n",
       "87943    1.289269\n",
       "87944    1.685696\n",
       "87945    1.447177\n",
       "Name: weighted_sum, Length: 87946, dtype: float64"
      ]
     },
     "execution_count": 466,
     "metadata": {},
     "output_type": "execute_result"
    }
   ],
   "source": [
    "weights = {'host_is_superhost':0.3 , 'host_identity_verified':0.4 , 'amenities_sum':0.8 , \n",
    "           'price':0.8 , 'availability_365':0.4 , 'number_of_reviews_ltm':0.7 ,\n",
    "           'average_review_rating':0.7 , 'instant_bookable':0.4 , 'reviews_per_month':0.8}\n",
    "\n",
    "x['weighted_sum'] = (x[list(weights.keys())] * pd.Series(weights)).sum(axis=1)\n",
    "x['weighted_sum']"
   ]
  },
  {
   "cell_type": "markdown",
   "id": "6a78a86c-619a-4964-88b6-d938256162df",
   "metadata": {},
   "source": [
    "I have given weightage to all the independent variables that I will be using to build the model to get a common value. The weightage is ranged from min 0.1 to max 0.9. With this value I have also formed a new column called weighted_sum which is then used to classify the output either good, bad or average."
   ]
  },
  {
   "cell_type": "code",
   "execution_count": 467,
   "id": "8f58bc1a-acc2-4869-a90c-49845c8d5389",
   "metadata": {},
   "outputs": [
    {
     "data": {
      "text/plain": [
       "count    87946.000000\n",
       "mean         1.748678\n",
       "std          0.549153\n",
       "min          0.000180\n",
       "25%          1.413024\n",
       "50%          1.821146\n",
       "75%          2.146855\n",
       "max          3.817678\n",
       "Name: weighted_sum, dtype: float64"
      ]
     },
     "execution_count": 467,
     "metadata": {},
     "output_type": "execute_result"
    }
   ],
   "source": [
    "x['weighted_sum'].describe()"
   ]
  },
  {
   "cell_type": "code",
   "execution_count": 468,
   "id": "15b72fba-f808-4811-a36a-6ce71d5f6a11",
   "metadata": {},
   "outputs": [],
   "source": [
    "bins = [-float('inf'), 1.3, 1.95, float('inf')]"
   ]
  },
  {
   "cell_type": "code",
   "execution_count": 469,
   "id": "e5f52f81-4507-464e-b8bb-818ef39597ed",
   "metadata": {},
   "outputs": [],
   "source": [
    "finalRating = ['bad', 'average', 'good']"
   ]
  },
  {
   "cell_type": "code",
   "execution_count": 470,
   "id": "374299a2-2614-4dcd-8282-8e4ba8eec989",
   "metadata": {},
   "outputs": [],
   "source": [
    "x['classification'] = pd.cut(x['weighted_sum'], bins=bins, labels=finalRating, include_lowest=True)"
   ]
  },
  {
   "cell_type": "code",
   "execution_count": 471,
   "id": "fa9438b0-e250-4c18-ba9d-895ec324bb82",
   "metadata": {},
   "outputs": [
    {
     "data": {
      "text/plain": [
       "0           good\n",
       "1        average\n",
       "2           good\n",
       "3           good\n",
       "4           good\n",
       "          ...   \n",
       "87941    average\n",
       "87942        bad\n",
       "87943        bad\n",
       "87944    average\n",
       "87945    average\n",
       "Name: classification, Length: 87946, dtype: category\n",
       "Categories (3, object): ['bad' < 'average' < 'good']"
      ]
     },
     "execution_count": 471,
     "metadata": {},
     "output_type": "execute_result"
    }
   ],
   "source": [
    "x['classification']"
   ]
  },
  {
   "cell_type": "code",
   "execution_count": 472,
   "id": "c29d9696-8d1d-469a-94d8-655aa0b5266c",
   "metadata": {},
   "outputs": [
    {
     "data": {
      "text/plain": [
       "count       87946\n",
       "unique          3\n",
       "top       average\n",
       "freq        35605\n",
       "Name: classification, dtype: object"
      ]
     },
     "execution_count": 472,
     "metadata": {},
     "output_type": "execute_result"
    }
   ],
   "source": [
    "x['classification'].describe()"
   ]
  },
  {
   "cell_type": "code",
   "execution_count": 473,
   "id": "b500a327-42cf-4563-adc7-6a10a6d38cf7",
   "metadata": {},
   "outputs": [
    {
     "data": {
      "text/plain": [
       "classification\n",
       "average    35605\n",
       "good       33804\n",
       "bad        18537\n",
       "Name: count, dtype: int64"
      ]
     },
     "execution_count": 473,
     "metadata": {},
     "output_type": "execute_result"
    }
   ],
   "source": [
    "x['classification'].value_counts()"
   ]
  },
  {
   "cell_type": "code",
   "execution_count": 474,
   "id": "a43bee3a-79b2-4989-a684-f78e12e1cd41",
   "metadata": {},
   "outputs": [],
   "source": [
    "classification_counts = x['classification'].value_counts()"
   ]
  },
  {
   "cell_type": "code",
   "execution_count": 475,
   "id": "642afb25-6467-44d5-93e6-ad3afac14b12",
   "metadata": {},
   "outputs": [
    {
     "name": "stderr",
     "output_type": "stream",
     "text": [
      "C:\\Users\\Dhinakaran C\\AppData\\Local\\Temp\\ipykernel_844\\1747215647.py:2: FutureWarning: \n",
      "\n",
      "Passing `palette` without assigning `hue` is deprecated and will be removed in v0.14.0. Assign the `x` variable to `hue` and set `legend=False` for the same effect.\n",
      "\n",
      "  bar_plot = sns.barplot(x=classification_counts.index, y=classification_counts.values, palette=\"Set2\")\n"
     ]
    },
    {
     "data": {
      "image/png": "[encoded data removed]",
      "text/plain": [
       "<Figure size 800x600 with 1 Axes>"
      ]
     },
     "metadata": {},
     "output_type": "display_data"
    }
   ],
   "source": [
    "plt.figure(figsize=(8, 6))\n",
    "bar_plot = sns.barplot(x=classification_counts.index, y=classification_counts.values, palette=\"Set2\")\n"
   ]
  },
  {
   "cell_type": "code",
   "execution_count": 476,
   "id": "baeef6bc-3ab8-409b-b3b6-7f81e2c95723",
   "metadata": {},
   "outputs": [],
   "source": [
    "X = x[['host_is_superhost', 'host_identity_verified', 'amenities_sum' , \n",
    "           'price', 'availability_365' , 'number_of_reviews_ltm' ,\n",
    "           'average_review_rating' , 'instant_bookable' , 'reviews_per_month']]"
   ]
  },
  {
   "cell_type": "code",
   "execution_count": 477,
   "id": "11ec3c51-730c-4716-ba85-54e782444661",
   "metadata": {},
   "outputs": [
    {
     "data": {
      "text/html": [
       "<div>\n",
       "<style scoped>\n",
       "    .dataframe tbody tr th:only-of-type {\n",
       "        vertical-align: middle;\n",
       "    }\n",
       "\n",
       "    .dataframe tbody tr th {\n",
       "        vertical-align: top;\n",
       "    }\n",
       "\n",
       "    .dataframe thead th {\n",
       "        text-align: right;\n",
       "    }\n",
       "</style>\n",
       "<table border=\"1\" class=\"dataframe\">\n",
       "  <thead>\n",
       "    <tr style=\"text-align: right;\">\n",
       "      <th></th>\n",
       "      <th>host_is_superhost</th>\n",
       "      <th>host_identity_verified</th>\n",
       "      <th>amenities_sum</th>\n",
       "      <th>price</th>\n",
       "      <th>availability_365</th>\n",
       "      <th>number_of_reviews_ltm</th>\n",
       "      <th>average_review_rating</th>\n",
       "      <th>instant_bookable</th>\n",
       "      <th>reviews_per_month</th>\n",
       "    </tr>\n",
       "  </thead>\n",
       "  <tbody>\n",
       "    <tr>\n",
       "      <th>0</th>\n",
       "      <td>0.0</td>\n",
       "      <td>1.0</td>\n",
       "      <td>0.5</td>\n",
       "      <td>0.000524</td>\n",
       "      <td>0.594521</td>\n",
       "      <td>0.015152</td>\n",
       "      <td>0.936000</td>\n",
       "      <td>1.0</td>\n",
       "      <td>0.028856</td>\n",
       "    </tr>\n",
       "    <tr>\n",
       "      <th>1</th>\n",
       "      <td>0.0</td>\n",
       "      <td>1.0</td>\n",
       "      <td>0.9</td>\n",
       "      <td>0.002185</td>\n",
       "      <td>0.109589</td>\n",
       "      <td>0.003367</td>\n",
       "      <td>0.957714</td>\n",
       "      <td>0.0</td>\n",
       "      <td>0.005373</td>\n",
       "    </tr>\n",
       "    <tr>\n",
       "      <th>2</th>\n",
       "      <td>0.0</td>\n",
       "      <td>1.0</td>\n",
       "      <td>0.9</td>\n",
       "      <td>0.000986</td>\n",
       "      <td>0.986301</td>\n",
       "      <td>0.018519</td>\n",
       "      <td>0.948000</td>\n",
       "      <td>0.0</td>\n",
       "      <td>0.005174</td>\n",
       "    </tr>\n",
       "    <tr>\n",
       "      <th>3</th>\n",
       "      <td>0.0</td>\n",
       "      <td>1.0</td>\n",
       "      <td>1.0</td>\n",
       "      <td>0.001873</td>\n",
       "      <td>0.200000</td>\n",
       "      <td>0.008418</td>\n",
       "      <td>0.968857</td>\n",
       "      <td>0.0</td>\n",
       "      <td>0.011144</td>\n",
       "    </tr>\n",
       "    <tr>\n",
       "      <th>4</th>\n",
       "      <td>1.0</td>\n",
       "      <td>1.0</td>\n",
       "      <td>0.9</td>\n",
       "      <td>0.000574</td>\n",
       "      <td>0.536986</td>\n",
       "      <td>0.042088</td>\n",
       "      <td>0.933143</td>\n",
       "      <td>0.0</td>\n",
       "      <td>0.024080</td>\n",
       "    </tr>\n",
       "    <tr>\n",
       "      <th>...</th>\n",
       "      <td>...</td>\n",
       "      <td>...</td>\n",
       "      <td>...</td>\n",
       "      <td>...</td>\n",
       "      <td>...</td>\n",
       "      <td>...</td>\n",
       "      <td>...</td>\n",
       "      <td>...</td>\n",
       "      <td>...</td>\n",
       "    </tr>\n",
       "    <tr>\n",
       "      <th>87941</th>\n",
       "      <td>1.0</td>\n",
       "      <td>1.0</td>\n",
       "      <td>0.7</td>\n",
       "      <td>0.003433</td>\n",
       "      <td>0.654795</td>\n",
       "      <td>0.000000</td>\n",
       "      <td>0.000000</td>\n",
       "      <td>0.0</td>\n",
       "      <td>0.000000</td>\n",
       "    </tr>\n",
       "    <tr>\n",
       "      <th>87942</th>\n",
       "      <td>0.0</td>\n",
       "      <td>1.0</td>\n",
       "      <td>0.9</td>\n",
       "      <td>0.001810</td>\n",
       "      <td>0.241096</td>\n",
       "      <td>0.000000</td>\n",
       "      <td>0.000000</td>\n",
       "      <td>0.0</td>\n",
       "      <td>0.000000</td>\n",
       "    </tr>\n",
       "    <tr>\n",
       "      <th>87943</th>\n",
       "      <td>0.0</td>\n",
       "      <td>1.0</td>\n",
       "      <td>1.0</td>\n",
       "      <td>0.001998</td>\n",
       "      <td>0.219178</td>\n",
       "      <td>0.000000</td>\n",
       "      <td>0.000000</td>\n",
       "      <td>0.0</td>\n",
       "      <td>0.000000</td>\n",
       "    </tr>\n",
       "    <tr>\n",
       "      <th>87944</th>\n",
       "      <td>0.0</td>\n",
       "      <td>1.0</td>\n",
       "      <td>0.6</td>\n",
       "      <td>0.008489</td>\n",
       "      <td>0.997260</td>\n",
       "      <td>0.000000</td>\n",
       "      <td>0.000000</td>\n",
       "      <td>1.0</td>\n",
       "      <td>0.000000</td>\n",
       "    </tr>\n",
       "    <tr>\n",
       "      <th>87945</th>\n",
       "      <td>0.0</td>\n",
       "      <td>1.0</td>\n",
       "      <td>0.9</td>\n",
       "      <td>0.002122</td>\n",
       "      <td>0.813699</td>\n",
       "      <td>0.000000</td>\n",
       "      <td>0.000000</td>\n",
       "      <td>0.0</td>\n",
       "      <td>0.000000</td>\n",
       "    </tr>\n",
       "  </tbody>\n",
       "</table>\n",
       "<p>87946 rows × 9 columns</p>\n",
       "</div>"
      ],
      "text/plain": [
       "       host_is_superhost  host_identity_verified  amenities_sum     price  \\\n",
       "0                    0.0                     1.0            0.5  0.000524   \n",
       "1                    0.0                     1.0            0.9  0.002185   \n",
       "2                    0.0                     1.0            0.9  0.000986   \n",
       "3                    0.0                     1.0            1.0  0.001873   \n",
       "4                    1.0                     1.0            0.9  0.000574   \n",
       "...                  ...                     ...            ...       ...   \n",
       "87941                1.0                     1.0            0.7  0.003433   \n",
       "87942                0.0                     1.0            0.9  0.001810   \n",
       "87943                0.0                     1.0            1.0  0.001998   \n",
       "87944                0.0                     1.0            0.6  0.008489   \n",
       "87945                0.0                     1.0            0.9  0.002122   \n",
       "\n",
       "       availability_365  number_of_reviews_ltm  average_review_rating  \\\n",
       "0              0.594521               0.015152               0.936000   \n",
       "1              0.109589               0.003367               0.957714   \n",
       "2              0.986301               0.018519               0.948000   \n",
       "3              0.200000               0.008418               0.968857   \n",
       "4              0.536986               0.042088               0.933143   \n",
       "...                 ...                    ...                    ...   \n",
       "87941          0.654795               0.000000               0.000000   \n",
       "87942          0.241096               0.000000               0.000000   \n",
       "87943          0.219178               0.000000               0.000000   \n",
       "87944          0.997260               0.000000               0.000000   \n",
       "87945          0.813699               0.000000               0.000000   \n",
       "\n",
       "       instant_bookable  reviews_per_month  \n",
       "0                   1.0           0.028856  \n",
       "1                   0.0           0.005373  \n",
       "2                   0.0           0.005174  \n",
       "3                   0.0           0.011144  \n",
       "4                   0.0           0.024080  \n",
       "...                 ...                ...  \n",
       "87941               0.0           0.000000  \n",
       "87942               0.0           0.000000  \n",
       "87943               0.0           0.000000  \n",
       "87944               1.0           0.000000  \n",
       "87945               0.0           0.000000  \n",
       "\n",
       "[87946 rows x 9 columns]"
      ]
     },
     "execution_count": 477,
     "metadata": {},
     "output_type": "execute_result"
    }
   ],
   "source": [
    "X"
   ]
  },
  {
   "cell_type": "code",
   "execution_count": 478,
   "id": "52597a0e-4672-4963-9539-1454944ed5a2",
   "metadata": {},
   "outputs": [],
   "source": [
    "y = x['classification']"
   ]
  },
  {
   "cell_type": "code",
   "execution_count": 479,
   "id": "5c45e111-2508-4321-a57c-8b5729390b7e",
   "metadata": {},
   "outputs": [],
   "source": [
    "X_train, X_test, y_train, y_test = train_test_split(X, y, test_size=0.2, random_state=42)"
   ]
  },
  {
   "cell_type": "code",
   "execution_count": 480,
   "id": "0228ce05-e2e2-4c1c-826f-22d3c48f37c0",
   "metadata": {},
   "outputs": [],
   "source": [
    "model = LogisticRegression(multi_class='ovr')"
   ]
  },
  {
   "cell_type": "code",
   "execution_count": 481,
   "id": "ff45c33c-1514-4761-b3fd-eca7ce7aeb95",
   "metadata": {},
   "outputs": [
    {
     "data": {
      "text/html": [
       "<style>#sk-container-id-7 {color: black;}#sk-container-id-7 pre{padding: 0;}#sk-container-id-7 div.sk-toggleable {background-color: white;}#sk-container-id-7 label.sk-toggleable__label {cursor: pointer;display: block;width: 100%;margin-bottom: 0;padding: 0.3em;box-sizing: border-box;text-align: center;}#sk-container-id-7 label.sk-toggleable__label-arrow:before {content: \"▸\";float: left;margin-right: 0.25em;color: #696969;}#sk-container-id-7 label.sk-toggleable__label-arrow:hover:before {color: black;}#sk-container-id-7 div.sk-estimator:hover label.sk-toggleable__label-arrow:before {color: black;}#sk-container-id-7 div.sk-toggleable__content {max-height: 0;max-width: 0;overflow: hidden;text-align: left;background-color: #f0f8ff;}#sk-container-id-7 div.sk-toggleable__content pre {margin: 0.2em;color: black;border-radius: 0.25em;background-color: #f0f8ff;}#sk-container-id-7 input.sk-toggleable__control:checked~div.sk-toggleable__content {max-height: 200px;max-width: 100%;overflow: auto;}#sk-container-id-7 input.sk-toggleable__control:checked~label.sk-toggleable__label-arrow:before {content: \"▾\";}#sk-container-id-7 div.sk-estimator input.sk-toggleable__control:checked~label.sk-toggleable__label {background-color: #d4ebff;}#sk-container-id-7 div.sk-label input.sk-toggleable__control:checked~label.sk-toggleable__label {background-color: #d4ebff;}#sk-container-id-7 input.sk-hidden--visually {border: 0;clip: rect(1px 1px 1px 1px);clip: rect(1px, 1px, 1px, 1px);height: 1px;margin: -1px;overflow: hidden;padding: 0;position: absolute;width: 1px;}#sk-container-id-7 div.sk-estimator {font-family: monospace;background-color: #f0f8ff;border: 1px dotted black;border-radius: 0.25em;box-sizing: border-box;margin-bottom: 0.5em;}#sk-container-id-7 div.sk-estimator:hover {background-color: #d4ebff;}#sk-container-id-7 div.sk-parallel-item::after {content: \"\";width: 100%;border-bottom: 1px solid gray;flex-grow: 1;}#sk-container-id-7 div.sk-label:hover label.sk-toggleable__label {background-color: #d4ebff;}#sk-container-id-7 div.sk-serial::before {content: \"\";position: absolute;border-left: 1px solid gray;box-sizing: border-box;top: 0;bottom: 0;left: 50%;z-index: 0;}#sk-container-id-7 div.sk-serial {display: flex;flex-direction: column;align-items: center;background-color: white;padding-right: 0.2em;padding-left: 0.2em;position: relative;}#sk-container-id-7 div.sk-item {position: relative;z-index: 1;}#sk-container-id-7 div.sk-parallel {display: flex;align-items: stretch;justify-content: center;background-color: white;position: relative;}#sk-container-id-7 div.sk-item::before, #sk-container-id-7 div.sk-parallel-item::before {content: \"\";position: absolute;border-left: 1px solid gray;box-sizing: border-box;top: 0;bottom: 0;left: 50%;z-index: -1;}#sk-container-id-7 div.sk-parallel-item {display: flex;flex-direction: column;z-index: 1;position: relative;background-color: white;}#sk-container-id-7 div.sk-parallel-item:first-child::after {align-self: flex-end;width: 50%;}#sk-container-id-7 div.sk-parallel-item:last-child::after {align-self: flex-start;width: 50%;}#sk-container-id-7 div.sk-parallel-item:only-child::after {width: 0;}#sk-container-id-7 div.sk-dashed-wrapped {border: 1px dashed gray;margin: 0 0.4em 0.5em 0.4em;box-sizing: border-box;padding-bottom: 0.4em;background-color: white;}#sk-container-id-7 div.sk-label label {font-family: monospace;font-weight: bold;display: inline-block;line-height: 1.2em;}#sk-container-id-7 div.sk-label-container {text-align: center;}#sk-container-id-7 div.sk-container {/* jupyter's `normalize.less` sets `[hidden] { display: none; }` but bootstrap.min.css set `[hidden] { display: none !important; }` so we also need the `!important` here to be able to override the default hidden behavior on the sphinx rendered scikit-learn.org. See: https://github.com/scikit-learn/scikit-learn/issues/21755 */display: inline-block !important;position: relative;}#sk-container-id-7 div.sk-text-repr-fallback {display: none;}</style><div id=\"sk-container-id-7\" class=\"sk-top-container\"><div class=\"sk-text-repr-fallback\"><pre>LogisticRegression(multi_class=&#x27;ovr&#x27;)</pre><b>In a Jupyter environment, please rerun this cell to show the HTML representation or trust the notebook. <br />On GitHub, the HTML representation is unable to render, please try loading this page with nbviewer.org.</b></div><div class=\"sk-container\" hidden><div class=\"sk-item\"><div class=\"sk-estimator sk-toggleable\"><input class=\"sk-toggleable__control sk-hidden--visually\" id=\"sk-estimator-id-7\" type=\"checkbox\" checked><label for=\"sk-estimator-id-7\" class=\"sk-toggleable__label sk-toggleable__label-arrow\">LogisticRegression</label><div class=\"sk-toggleable__content\"><pre>LogisticRegression(multi_class=&#x27;ovr&#x27;)</pre></div></div></div></div></div>"
      ],
      "text/plain": [
       "LogisticRegression(multi_class='ovr')"
      ]
     },
     "execution_count": 481,
     "metadata": {},
     "output_type": "execute_result"
    }
   ],
   "source": [
    "model.fit(X_train, y_train)"
   ]
  },
  {
   "cell_type": "code",
   "execution_count": 482,
   "id": "49da2f6a-70fc-4edd-911b-cf1ca6d93ab2",
   "metadata": {},
   "outputs": [],
   "source": [
    "y_pred = model.predict(X_test)"
   ]
  },
  {
   "cell_type": "code",
   "execution_count": 483,
   "id": "66f9965b-c8f5-4b62-9668-11c3b8f43ffb",
   "metadata": {},
   "outputs": [],
   "source": [
    "accuracy = accuracy_score(y_test, y_pred)"
   ]
  },
  {
   "cell_type": "code",
   "execution_count": 484,
   "id": "5a38b5dc-3117-4cb8-a5ca-55cda4f5a433",
   "metadata": {},
   "outputs": [
    {
     "name": "stdout",
     "output_type": "stream",
     "text": [
      "Accuracy: 0.98\n"
     ]
    }
   ],
   "source": [
    "print(f'Accuracy: {accuracy:.2f}')"
   ]
  },
  {
   "cell_type": "code",
   "execution_count": 485,
   "id": "3f1890a7-5c09-40ee-b691-b8549eaba4ba",
   "metadata": {},
   "outputs": [
    {
     "name": "stdout",
     "output_type": "stream",
     "text": [
      "Confusion Matrix:\n",
      "[[6823  117  128]\n",
      " [  26 3797    0]\n",
      " [ 124    0 6575]]\n"
     ]
    }
   ],
   "source": [
    "conf_matrix = confusion_matrix(y_test, y_pred)\n",
    "print(f'Confusion Matrix:\\n{conf_matrix}')"
   ]
  },
  {
   "cell_type": "code",
   "execution_count": 486,
   "id": "19157ed7-c217-4d1a-8029-b9ec243af69c",
   "metadata": {},
   "outputs": [
    {
     "name": "stdout",
     "output_type": "stream",
     "text": [
      "Classification Report:\n",
      "              precision    recall  f1-score   support\n",
      "\n",
      "     average       0.98      0.97      0.97      7068\n",
      "         bad       0.97      0.99      0.98      3823\n",
      "        good       0.98      0.98      0.98      6699\n",
      "\n",
      "    accuracy                           0.98     17590\n",
      "   macro avg       0.98      0.98      0.98     17590\n",
      "weighted avg       0.98      0.98      0.98     17590\n",
      "\n"
     ]
    }
   ],
   "source": [
    "class_report = classification_report(y_test, y_pred)\n",
    "print(f'Classification Report:\\n{class_report}')"
   ]
  },
  {
   "cell_type": "raw",
   "id": "6793436d-3445-4d8e-aa6c-f78ba42c23c3",
   "metadata": {},
   "source": [
    "Then I have built a Logistic regression model using the feature engineered columns and the normalised values. Decision tree could also be used to solve this problem but since I'm getting a higher accuracy consistently in logistic regression, I'm sticking with it."
   ]
  },
  {
   "cell_type": "code",
   "execution_count": 487,
   "id": "96c4407c-e94c-4e92-900c-221805f10a95",
   "metadata": {},
   "outputs": [
    {
     "name": "stdout",
     "output_type": "stream",
     "text": [
      "Requirement already satisfied: seaborn in c:\\users\\dhinakaran c\\appdata\\local\\programs\\python\\python312\\lib\\site-packages (0.13.1)\n",
      "Requirement already satisfied: numpy!=1.24.0,>=1.20 in c:\\users\\dhinakaran c\\appdata\\local\\programs\\python\\python312\\lib\\site-packages (from seaborn) (1.26.3)\n",
      "Requirement already satisfied: pandas>=1.2 in c:\\users\\dhinakaran c\\appdata\\local\\programs\\python\\python312\\lib\\site-packages (from seaborn) (2.1.4)\n",
      "Requirement already satisfied: matplotlib!=3.6.1,>=3.4 in c:\\users\\dhinakaran c\\appdata\\local\\programs\\python\\python312\\lib\\site-packages (from seaborn) (3.8.2)\n",
      "Requirement already satisfied: contourpy>=1.0.1 in c:\\users\\dhinakaran c\\appdata\\local\\programs\\python\\python312\\lib\\site-packages (from matplotlib!=3.6.1,>=3.4->seaborn) (1.2.0)\n",
      "Requirement already satisfied: cycler>=0.10 in c:\\users\\dhinakaran c\\appdata\\local\\programs\\python\\python312\\lib\\site-packages (from matplotlib!=3.6.1,>=3.4->seaborn) (0.12.1)\n",
      "Requirement already satisfied: fonttools>=4.22.0 in c:\\users\\dhinakaran c\\appdata\\local\\programs\\python\\python312\\lib\\site-packages (from matplotlib!=3.6.1,>=3.4->seaborn) (4.47.0)\n",
      "Requirement already satisfied: kiwisolver>=1.3.1 in c:\\users\\dhinakaran c\\appdata\\local\\programs\\python\\python312\\lib\\site-packages (from matplotlib!=3.6.1,>=3.4->seaborn) (1.4.5)\n",
      "Requirement already satisfied: packaging>=20.0 in c:\\users\\dhinakaran c\\appdata\\local\\programs\\python\\python312\\lib\\site-packages (from matplotlib!=3.6.1,>=3.4->seaborn) (23.2)\n",
      "Requirement already satisfied: pillow>=8 in c:\\users\\dhinakaran c\\appdata\\local\\programs\\python\\python312\\lib\\site-packages (from matplotlib!=3.6.1,>=3.4->seaborn) (10.2.0)\n",
      "Requirement already satisfied: pyparsing>=2.3.1 in c:\\users\\dhinakaran c\\appdata\\local\\programs\\python\\python312\\lib\\site-packages (from matplotlib!=3.6.1,>=3.4->seaborn) (3.1.1)\n",
      "Requirement already satisfied: python-dateutil>=2.7 in c:\\users\\dhinakaran c\\appdata\\local\\programs\\python\\python312\\lib\\site-packages (from matplotlib!=3.6.1,>=3.4->seaborn) (2.8.2)\n",
      "Requirement already satisfied: pytz>=2020.1 in c:\\users\\dhinakaran c\\appdata\\local\\programs\\python\\python312\\lib\\site-packages (from pandas>=1.2->seaborn) (2023.3.post1)\n",
      "Requirement already satisfied: tzdata>=2022.1 in c:\\users\\dhinakaran c\\appdata\\local\\programs\\python\\python312\\lib\\site-packages (from pandas>=1.2->seaborn) (2023.4)\n",
      "Requirement already satisfied: six>=1.5 in c:\\users\\dhinakaran c\\appdata\\local\\programs\\python\\python312\\lib\\site-packages (from python-dateutil>=2.7->matplotlib!=3.6.1,>=3.4->seaborn) (1.16.0)\n",
      "Note: you may need to restart the kernel to use updated packages.\n"
     ]
    },
    {
     "name": "stderr",
     "output_type": "stream",
     "text": [
      "\n",
      "[notice] A new release of pip is available: 23.2.1 -> 23.3.2\n",
      "[notice] To update, run: python.exe -m pip install --upgrade pip\n"
     ]
    }
   ],
   "source": [
    "pip install seaborn"
   ]
  },
  {
   "cell_type": "code",
   "execution_count": 488,
   "id": "f6c795f6-e196-493a-95d2-a5ee3fb6eb9f",
   "metadata": {},
   "outputs": [],
   "source": [
    "import seaborn as sns"
   ]
  },
  {
   "cell_type": "code",
   "execution_count": 489,
   "id": "95697f57-14d3-4096-89b3-47231819b6c9",
   "metadata": {},
   "outputs": [],
   "source": [
    "import matplotlib.pyplot as plt"
   ]
  },
  {
   "cell_type": "code",
   "execution_count": 490,
   "id": "2b11ab14-2d58-4fdd-b60f-2694151f1c57",
   "metadata": {},
   "outputs": [
    {
     "data": {
      "text/plain": [
       "<Figure size 800x600 with 0 Axes>"
      ]
     },
     "execution_count": 490,
     "metadata": {},
     "output_type": "execute_result"
    },
    {
     "data": {
      "text/plain": [
       "<Figure size 800x600 with 0 Axes>"
      ]
     },
     "metadata": {},
     "output_type": "display_data"
    }
   ],
   "source": [
    "plt.figure(figsize=(8, 6))"
   ]
  },
  {
   "cell_type": "code",
   "execution_count": 491,
   "id": "81a29424-7403-42bc-a0f1-53fcc7cd8dbb",
   "metadata": {},
   "outputs": [
    {
     "data": {
      "image/png": "[encoded data removed]",
      "text/plain": [
       "<Figure size 640x480 with 1 Axes>"
      ]
     },
     "metadata": {},
     "output_type": "display_data"
    }
   ],
   "source": [
    "sns.heatmap(conf_matrix, annot=True, fmt='d', cmap='Blues', cbar=False)\n",
    "plt.xlabel('Predicted')\n",
    "plt.ylabel('Actual')\n",
    "plt.title('Confusion Matrix')\n",
    "plt.show()"
   ]
  },
  {
   "cell_type": "markdown",
   "id": "ca98c0c2-0438-4e9a-aa5c-15467b7ccd9b",
   "metadata": {},
   "source": [
    "Finally with the model been built there are a few takeaways from this logistic regression model\n",
    "\n",
    "- Domain knowledge is a very vital factor in this problem but we can come to an understanding by just messing with the data\n",
    "- out of logictic regression and decision tree would be a better option for this data set.\n",
    "- There are a few outliers in some variables in the data set but since the current accuracy is considerably high and consistent, I did not explore into that path\n",
    "- I have filled up all the null values with either 0 or average and it has worked fine in the model for me eventhough it might be compromising the authenticity of the data set\n",
    "- There are specific review ratings given by the user for all the seperate amenities and services provided by the host. Adding those rating to come up with an average is not affecting the model's accuracy in any way. So it is more effective to engineer such columns into 1 column.\n",
    "- Since there are a large number of amenities provided by individual hosts, we have ranked those amenities from 1-10 in terms of their popularity in BnBs and we have also created a new column summing these amenities to get a number out of 10 to know the number of amenities in a property that comes in the top 10.\n",
    "  "
   ]
  },
  {
   "cell_type": "markdown",
   "id": "f05ad937-6d65-4671-ba3a-7ac515a0ebd4",
   "metadata": {},
   "source": [
    "EFFICIENCY OF THE MODEL:\n",
    "       The efficiency of the model is considered good with its accuracy being 0.95+ 90% of the times. But we have to keep in mind that the result is totally based on the data we have on hand and no outside data and this could be a bit unreiable when tested with real time data. But since its just a predictive model with limited data, it is a good start and can be used to build further effective models in the future using it as a reference"
   ]
  },
  {
   "cell_type": "markdown",
   "id": "ed0782de-5590-40b2-8652-45f0529e128b",
   "metadata": {},
   "source": [
    "ALTERNATIVE APPROACH:\n",
    "             An alternative approach could be using decision trees. But since the regression model has a considerably higher accuracy and is reasonably explainable when looked at it from a domain knowledge perspective and not as just another data set, I opted to just stick with method 1 ie.. logistic regression and also in my model there are 3 predictive outcomes and not 2 so infact that could bring up some complicated algorithms in decision tree and could easily lead to overfitting"
   ]
  },
  {
   "cell_type": "markdown",
   "id": "2dbd54d3-c0d2-4853-a6b4-ebbbf5242b37",
   "metadata": {},
   "source": [
    "IMPROVEMENTS OR RECOMMENDATIONS TO THE MODEL:\n",
    "            As an improvement to the model, maybe we can try categorizing the variables of a columns into different sections just the way we did for classification column to find some relative response in the model. \n",
    "            More input data as in distance from nearest public transport, distance from tourit attractions and certain data columns like that could definitely add some spice to the predictive models."
   ]
  }
 ],
 "metadata": {
  "kernelspec": {
   "display_name": "Python 3 (ipykernel)",
   "language": "python",
   "name": "python3"
  },
  "language_info": {
   "codemirror_mode": {
    "name": "ipython",
    "version": 3
   },
   "file_extension": ".py",
   "mimetype": "text/x-python",
   "name": "python",
   "nbconvert_exporter": "python",
   "pygments_lexer": "ipython3",
   "version": "3.12.1"
  }
 },
 "nbformat": 4,
 "nbformat_minor": 5
}
